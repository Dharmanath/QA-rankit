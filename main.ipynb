{
 "cells": [
  {
   "cell_type": "code",
   "execution_count": 33,
   "metadata": {
    "collapsed": true
   },
   "outputs": [],
   "source": [
    "import sys, os, collections, copy, re\n",
    "import nltk, codecs\n",
    "import numpy as np\n",
    "import pandas as pd\n",
    "from pandas import DataFrame, Series\n",
    "from nltk.corpus import stopwords\n",
    "from nltk.tokenize import RegexpTokenizer\n",
    "from util import *\n",
    "from PairWiseRanker import *"
   ]
  },
  {
   "cell_type": "code",
   "execution_count": 2,
   "metadata": {
    "collapsed": true
   },
   "outputs": [],
   "source": [
    "from IPython.display import clear_output"
   ]
  },
  {
   "cell_type": "code",
   "execution_count": 3,
   "metadata": {
    "collapsed": true
   },
   "outputs": [],
   "source": [
    "UNKNOWN_WORD = ':-)'"
   ]
  },
  {
   "cell_type": "code",
   "execution_count": 4,
   "metadata": {
    "collapsed": true
   },
   "outputs": [],
   "source": [
    "data_dir = 'data/'\n",
    "fn = {'trn':data_dir + 'WikiQA-train.tsv', 'dev':data_dir + 'WikiQA-dev.tsv', 'test':data_dir + 'WikiQA-test.tsv'}"
   ]
  },
  {
   "cell_type": "code",
   "execution_count": 5,
   "metadata": {
    "collapsed": true
   },
   "outputs": [],
   "source": [
    "#read_data = lambda fn : pd.read_csv(fn, sep='\\t', header=0, index_col='QuestionID')\n",
    "def read_data(f):\n",
    "    data = pd.read_csv(f, sep='\\t', header=0)\n",
    "    data['QAID'] = data['QuestionID'] + '*' + data['SentenceID']\n",
    "    data.index = data['QAID']\n",
    "    for col in ['Question', 'Sentence']:\n",
    "        data[col] = map(lambda x : codecs.decode(x.lower(), 'UTF-8'), data[col])\n",
    "    questions = dict(zip(data['QuestionID'], data['Question']))\n",
    "    return data, questions"
   ]
  },
  {
   "cell_type": "code",
   "execution_count": 6,
   "metadata": {
    "collapsed": false
   },
   "outputs": [
    {
     "name": "stdout",
     "output_type": "stream",
     "text": [
      "test (2349, 7) 2349\n",
      "dev (1130, 8) 1130\n",
      "trn (20347, 8) 20347\n"
     ]
    }
   ],
   "source": [
    "data, questions = {}, {}\n",
    "for k in fn:\n",
    "    data[k], questions[k] = read_data(fn[k])\n",
    "    print k, data[k].shape, len(set(data[k]['QAID']))"
   ]
  },
  {
   "cell_type": "code",
   "execution_count": 7,
   "metadata": {
    "collapsed": true
   },
   "outputs": [],
   "source": [
    "data_trn, data_dev, data_test = data['trn'], data['dev'], data['test'] # for convienience"
   ]
  },
  {
   "cell_type": "code",
   "execution_count": 8,
   "metadata": {
    "collapsed": false
   },
   "outputs": [
    {
     "name": "stdout",
     "output_type": "stream",
     "text": [
      "trn \n",
      "0    1245\n",
      "1     744\n",
      "2     103\n",
      "3      20\n",
      "7       2\n",
      "5       1\n",
      "6       1\n",
      "4       1\n",
      "Name: Label, dtype: int64\n",
      "dev \n",
      "1    115\n",
      "2      9\n",
      "4      1\n",
      "3      1\n",
      "Name: Label, dtype: int64\n"
     ]
    }
   ],
   "source": [
    "# distribution of number of answers each question has\n",
    "for k in ['trn', 'dev']:\n",
    "    grp = data[k]['Label'].groupby(data[k]['QuestionID'])\n",
    "    print k, '\\n', grp.agg(lambda v : v.sum()).value_counts()"
   ]
  },
  {
   "cell_type": "code",
   "execution_count": 9,
   "metadata": {
    "collapsed": false
   },
   "outputs": [
    {
     "name": "stdout",
     "output_type": "stream",
     "text": [
      "2486 2486\n"
     ]
    }
   ],
   "source": [
    "t = set(questions['trn']), set(questions['dev']), set(questions['test'])\n",
    "print len(t[0] | t[1] | t[2]), sum([len(v) for v in t])"
   ]
  },
  {
   "cell_type": "code",
   "execution_count": 10,
   "metadata": {
    "collapsed": true
   },
   "outputs": [],
   "source": [
    "# qtokens = {k:{qid:nltk.word_tokenize(q) for qid, q in questions[k].items() } for k in fn }"
   ]
  },
  {
   "cell_type": "code",
   "execution_count": 11,
   "metadata": {
    "collapsed": true
   },
   "outputs": [],
   "source": [
    "regex_tokenizer = RegexpTokenizer(r'\\w+')\n",
    "lancaster = nltk.LancasterStemmer()\n",
    "def sentence2words(sent):\n",
    "    res = {}\n",
    "    res['tokens'] = nltk.word_tokenize(sent)\n",
    "    res['words'] = regex_tokenizer.tokenize(sent)\n",
    "    res['stems'] = [lancaster.stem(w) for w in res['words']]\n",
    "    res['words_not_stop'] = filter(lambda word : word not in stopwords.words('english'), res['words'])\n",
    "    res['stems_not_stop'] = [lancaster.stem(w) for w in res['words_not_stop']]\n",
    "    return res"
   ]
  },
  {
   "cell_type": "code",
   "execution_count": 12,
   "metadata": {
    "collapsed": true
   },
   "outputs": [],
   "source": [
    "tps = ['words', 'stems', 'words_not_stop', 'stems_not_stop']"
   ]
  },
  {
   "cell_type": "code",
   "execution_count": 13,
   "metadata": {
    "collapsed": true
   },
   "outputs": [],
   "source": [
    "sent_words = dict()"
   ]
  },
  {
   "cell_type": "code",
   "execution_count": 14,
   "metadata": {
    "collapsed": false
   },
   "outputs": [],
   "source": [
    "for k in fn:\n",
    "    for qid, q in questions[k].items():\n",
    "        sent_words[qid] = sentence2words(q)\n",
    "    d = data[k]\n",
    "    for qaid in d.index:\n",
    "        sent_words[qaid] = sentence2words(d.get_value(qaid, 'Sentence'))"
   ]
  },
  {
   "cell_type": "code",
   "execution_count": 15,
   "metadata": {
    "collapsed": true
   },
   "outputs": [],
   "source": [
    "#first_word = lambda sent : sent[:sent.find(' ')]\n",
    "first_token = lambda tokens : tokens[0]\n",
    "second_token = lambda tokens : UNKNOWN_WORD if len(tokens) == 1 else tokens[1]\n",
    "first_two_tokens = lambda tokens : ' '.join(tokens[:2])"
   ]
  },
  {
   "cell_type": "code",
   "execution_count": 16,
   "metadata": {
    "collapsed": false
   },
   "outputs": [],
   "source": [
    "for k in fn:\n",
    "    for col, func in [('token1', first_token), ('token2', second_token), ('token12', first_two_tokens)]:\n",
    "        qids = list(set(data[k]['QuestionID']))\n",
    "        tmp = Series(map(func, map(lambda qid : sent_words[qid]['words'], qids)), index=qids)\n",
    "        data[k][col] = tmp[data[k]['QuestionID']].values"
   ]
  },
  {
   "cell_type": "code",
   "execution_count": 17,
   "metadata": {
    "collapsed": true
   },
   "outputs": [],
   "source": [
    "def get_question_type(data_x):\n",
    "    qtype = Series(data_x['token1'], index=data_x.index)\n",
    "    qtype[data_x['token12'] == 'what year'] = 'time'\n",
    "    qtype[data_x['token1'] == 'when'] = 'time'\n",
    "    qtype[data_x['token12'] == 'how many'] = 'number'\n",
    "    return qtype"
   ]
  },
  {
   "cell_type": "code",
   "execution_count": 18,
   "metadata": {
    "collapsed": true
   },
   "outputs": [],
   "source": [
    "for k in fn:\n",
    "    data[k]['qtype'] = get_question_type(data[k])"
   ]
  },
  {
   "cell_type": "code",
   "execution_count": 19,
   "metadata": {
    "collapsed": false
   },
   "outputs": [
    {
     "name": "stdout",
     "output_type": "stream",
     "text": [
      "test \n",
      "\n",
      "what      49.510430\n",
      "time      12.260536\n",
      "who       11.579395\n",
      "how       11.196254\n",
      "where     10.429970\n",
      "number     5.023414\n",
      "Name: token1, dtype: float64\n",
      "what is      22.307365\n",
      "what are      5.832269\n",
      "when did      5.704555\n",
      "how many      5.023414\n",
      "what year     3.490847\n",
      "where was     2.937420\n",
      "where is      2.894849\n",
      "what does     2.724564\n",
      "how did       2.256279\n",
      "who is        2.256279\n",
      "Name: token12, dtype: float64\n",
      "\n",
      "\n",
      "dev \n",
      "\n",
      "what        52.654867\n",
      "time        15.486726\n",
      "where       10.000000\n",
      "who          9.646018\n",
      "number       6.725664\n",
      "how          5.309735\n",
      "whatever     0.176991\n",
      "Name: token1, dtype: float64\n",
      "what is      14.424779\n",
      "what are     10.265487\n",
      "when did      9.203540\n",
      "how many      6.725664\n",
      "where is      5.132743\n",
      "what does     4.070796\n",
      "what was      3.982301\n",
      "what year     3.539823\n",
      "who is        2.743363\n",
      "when was      2.743363\n",
      "Name: token12, dtype: float64\n",
      "\n",
      "\n",
      "trn \n",
      "\n",
      "what      48.695139\n",
      "how       13.358235\n",
      "who       12.576793\n",
      "time      10.212808\n",
      "where      7.647319\n",
      "number     7.509707\n",
      "Name: token1, dtype: float64\n",
      "what is      19.968546\n",
      "how many      7.509707\n",
      "what are      4.708311\n",
      "when was      3.410822\n",
      "what does     3.140512\n",
      "when did      2.993070\n",
      "who is        2.948838\n",
      "where is      2.948838\n",
      "how did       2.255861\n",
      "what was      1.941318\n",
      "Name: token12, dtype: float64\n",
      "\n",
      "\n"
     ]
    }
   ],
   "source": [
    "for k in fn:\n",
    "    print k, '\\n'\n",
    "    for tk in ['token1', 'token12']:\n",
    "        print data[k][tk].value_counts().head(10) / float(data[k].shape[0]) * 100\n",
    "    print '\\n'"
   ]
  },
  {
   "cell_type": "code",
   "execution_count": 20,
   "metadata": {
    "collapsed": false
   },
   "outputs": [],
   "source": [
    "features = {key:DataFrame({}, index=data[key].index) for key in fn}\n",
    "features_trn = features['trn']\n",
    "features_dev = features['dev']\n",
    "features_test = features['test']"
   ]
  },
  {
   "cell_type": "code",
   "execution_count": 21,
   "metadata": {
    "collapsed": false
   },
   "outputs": [],
   "source": [
    "# words, stems\n",
    "for k in fn:\n",
    "    d = data[k]\n",
    "    for tp in tps:\n",
    "        func = lambda qaid : count_num_cooccur(sent_words[qaid][tp], sent_words[d.get_value(qaid, 'QuestionID')][tp])\n",
    "        features[k][tp] = d['QAID'].apply(func)"
   ]
  },
  {
   "cell_type": "code",
   "execution_count": 22,
   "metadata": {
    "collapsed": true
   },
   "outputs": [],
   "source": [
    "# question type\n",
    "for k in fn:\n",
    "    f, d = features[k], data[k]\n",
    "    f['qtype_time'] = (d['qtype'] == 'time') + 0\n",
    "    f['qtype_number'] = (d['qtype'] == 'number') + 0\n",
    "    f['year'] = map(lambda sent : int(re.search('[0-9]{4}', sent) != None), d.Sentence)\n",
    "    f['number'] = map(lambda sent : int(re.search('[0-9]+', sent) != None), d.Sentence)\n",
    "    f['number'] = f['number'] - f['year']"
   ]
  },
  {
   "cell_type": "code",
   "execution_count": 23,
   "metadata": {
    "collapsed": false
   },
   "outputs": [
    {
     "name": "stdout",
     "output_type": "stream",
     "text": [
      "0    15788\n",
      "1     4559\n",
      "Name: year, dtype: int64 \n",
      "0    17958\n",
      "1     2389\n",
      "Name: number, dtype: int64\n"
     ]
    }
   ],
   "source": [
    "print features_trn.year.value_counts(), '\\n', features_trn.number.value_counts()"
   ]
  },
  {
   "cell_type": "code",
   "execution_count": 24,
   "metadata": {
    "collapsed": true
   },
   "outputs": [],
   "source": [
    "from sklearn.ensemble import RandomForestClassifier\n",
    "from sklearn.svm import SVC\n",
    "from sklearn.linear_model import LogisticRegression"
   ]
  },
  {
   "cell_type": "code",
   "execution_count": 77,
   "metadata": {
    "collapsed": false
   },
   "outputs": [
    {
     "data": {
      "text/plain": [
       "<module 'learning2rank.rank.ListNet' from 'learning2rank/rank/ListNet.py'>"
      ]
     },
     "execution_count": 77,
     "metadata": {},
     "output_type": "execute_result"
    }
   ],
   "source": [
    "from learning2rank.rank import RankNet, ListNet\n",
    "reload(RankNet)\n",
    "reload(ListNet)"
   ]
  },
  {
   "cell_type": "code",
   "execution_count": 185,
   "metadata": {
    "collapsed": true
   },
   "outputs": [],
   "source": [
    "models = {}"
   ]
  },
  {
   "cell_type": "code",
   "execution_count": 186,
   "metadata": {
    "collapsed": true
   },
   "outputs": [],
   "source": [
    "indiv = [49, 'entropy', 13, 3, 5]\n",
    "models['rf'] = model_rf = RandomForestClassifier(n_estimators=indiv[0], criterion=indiv[1], \n",
    "                                                 max_depth=indiv[2], min_samples_split=indiv[3], \n",
    "                                                 min_samples_leaf=indiv[4], n_jobs=-1) # "
   ]
  },
  {
   "cell_type": "code",
   "execution_count": 187,
   "metadata": {
    "collapsed": true
   },
   "outputs": [],
   "source": [
    "models['lr_l1'] = model_lr_l1 = LogisticRegression(penalty='l1', n_jobs=-1)\n",
    "models['lr_l2'] = model_lr_l2 = LogisticRegression(penalty='l2', n_jobs=-1)"
   ]
  },
  {
   "cell_type": "code",
   "execution_count": 29,
   "metadata": {
    "collapsed": true
   },
   "outputs": [],
   "source": [
    "models['svm'] = model_svm = SVC(probability=True)"
   ]
  },
  {
   "cell_type": "code",
   "execution_count": 87,
   "metadata": {
    "collapsed": false
   },
   "outputs": [],
   "source": [
    "rk_models = {}"
   ]
  },
  {
   "cell_type": "code",
   "execution_count": 88,
   "metadata": {
    "collapsed": false
   },
   "outputs": [],
   "source": [
    "rk_models['ranknet'] = rk_model_ranknet = RankNet.RankNet(silent=True)"
   ]
  },
  {
   "cell_type": "code",
   "execution_count": 89,
   "metadata": {
    "collapsed": true
   },
   "outputs": [],
   "source": [
    "#rk_models['listnet'] = rk_model_listnet = ListNet.ListNet(silent=True)"
   ]
  },
  {
   "cell_type": "code",
   "execution_count": 205,
   "metadata": {
    "collapsed": false
   },
   "outputs": [],
   "source": [
    "my_models = {}\n",
    "pair_ranker = PairWiseRanker(data_trn.QuestionID, features_trn, data_trn.Label)"
   ]
  },
  {
   "cell_type": "code",
   "execution_count": 215,
   "metadata": {
    "collapsed": true
   },
   "outputs": [],
   "source": [
    "indiv = [746, 'gini', 7, 6, 4] # 0.679 \n",
    "my_models['my_rf'] = my_models_rf = RandomForestClassifier(n_estimators=indiv[0], criterion=indiv[1], \n",
    "                                                 max_depth=indiv[2], min_samples_split=indiv[3], \n",
    "                                                 min_samples_leaf=indiv[4], n_jobs=-1)"
   ]
  },
  {
   "cell_type": "code",
   "execution_count": 60,
   "metadata": {
    "collapsed": true
   },
   "outputs": [],
   "source": [
    "rk_models['listnet'] = rk_model_listnet = ListNet.ListNet()"
   ]
  },
  {
   "cell_type": "code",
   "execution_count": 188,
   "metadata": {
    "collapsed": false
   },
   "outputs": [],
   "source": [
    "for mn, md in models.items():\n",
    "    md.fit(pd.get_dummies(features_trn).values, data_trn.Label)"
   ]
  },
  {
   "cell_type": "code",
   "execution_count": 90,
   "metadata": {
    "collapsed": false
   },
   "outputs": [
    {
     "name": "stderr",
     "output_type": "stream",
     "text": [
      "  0%|          | 7/5000 [00:00<01:15, 65.70it/s]"
     ]
    },
    {
     "name": "stdout",
     "output_type": "stream",
     "text": [
      "load dataset\n",
      "('The number of data, train:', 19329, 'validate:', 1018)\n",
      "prepare initialized model!\n"
     ]
    },
    {
     "name": "stderr",
     "output_type": "stream",
     "text": [
      "100%|██████████| 5000/5000 [00:36<00:00, 135.83it/s]\n"
     ]
    },
    {
     "name": "stdout",
     "output_type": "stream",
     "text": [
      "save the model\n",
      "save the optimizer\n"
     ]
    }
   ],
   "source": [
    "# %%capture\n",
    "for mn in rk_models: # ['listnet']: # \n",
    "    args = {}\n",
    "    if mn == 'ranknet':\n",
    "        args = {} # {'batchsize':100, 'n_iter':5000, 'n_units1':512, 'n_units2':128, 'tv_ratio':0.95}\n",
    "    elif mn == 'listnet':\n",
    "        args = {'batchsize':100, 'n_epoch':1, 'n_units1':32, 'n_units2':16, 'tv_ratio':0.9}\n",
    "    rk_models[mn].fit(pd.get_dummies(features_trn).values, data_trn.Label, **args)\n",
    "\n",
    "# clear_output()"
   ]
  },
  {
   "cell_type": "code",
   "execution_count": 216,
   "metadata": {
    "collapsed": true
   },
   "outputs": [],
   "source": [
    "for mn in my_models:\n",
    "    pair_ranker.fit(my_models[mn], mn)"
   ]
  },
  {
   "cell_type": "code",
   "execution_count": 47,
   "metadata": {
    "collapsed": false
   },
   "outputs": [],
   "source": [
    "#Series(model_rf.feature_importances_, index=features_trn.columns).sort_values(ascending=False)"
   ]
  },
  {
   "cell_type": "code",
   "execution_count": 192,
   "metadata": {
    "collapsed": true
   },
   "outputs": [],
   "source": [
    "sfn = ['dev']"
   ]
  },
  {
   "cell_type": "code",
   "execution_count": 193,
   "metadata": {
    "collapsed": false
   },
   "outputs": [],
   "source": [
    "preds = {k:{mn:md.predict_proba(pd.get_dummies(features[k])) for mn, md in models.items()} for k in sfn}"
   ]
  },
  {
   "cell_type": "code",
   "execution_count": 194,
   "metadata": {
    "collapsed": false
   },
   "outputs": [],
   "source": [
    "rk_preds = {k:{mn:md.predict(pd.get_dummies(features[k]).values) for mn, md in rk_models.items()} for k in sfn}"
   ]
  },
  {
   "cell_type": "code",
   "execution_count": 217,
   "metadata": {
    "collapsed": false
   },
   "outputs": [],
   "source": [
    "my_preds = {k:{mn:pair_ranker.predict(data[k]['QuestionID'], features[k], mn) for mn in my_models} for k in sfn}"
   ]
  },
  {
   "cell_type": "code",
   "execution_count": 218,
   "metadata": {
    "collapsed": false
   },
   "outputs": [],
   "source": [
    "#rk_preds['dev']['listnet']"
   ]
  },
  {
   "cell_type": "code",
   "execution_count": 219,
   "metadata": {
    "collapsed": false
   },
   "outputs": [],
   "source": [
    "ranks = {k:copy.deepcopy(features[k]) for k in fn}\n",
    "rank_trn, rank_dev, rank_test = ranks['trn'], ranks['dev'], ranks['test']\n",
    "for k in sfn:\n",
    "    for col in ['QuestionID', 'SentenceID']:\n",
    "        ranks[k][col] = data[k][col]\n",
    "    if k != 'test':\n",
    "        ranks[k]['Label'] = data[k]['Label']\n",
    "    for mn in models:\n",
    "        ranks[k][mn] = preds[k][mn][:, 1] # larger is better\n",
    "    for mn in rk_models:\n",
    "        ranks[k][mn] = rk_preds[k][mn]\n",
    "    for mn in my_models:\n",
    "        ranks[k][mn] = my_preds[k][mn]\n",
    "    grp = ranks[k].groupby('QuestionID')\n",
    "    for col in tps + models.keys() + rk_models.keys() + my_models.keys():\n",
    "        ranks[k]['rank_' + col] = grp[col].rank(method='min', ascending=False).astype(int)    "
   ]
  },
  {
   "cell_type": "code",
   "execution_count": 220,
   "metadata": {
    "collapsed": false
   },
   "outputs": [
    {
     "name": "stdout",
     "output_type": "stream",
     "text": [
      "dev\n",
      "\twords           [ 0.66772  0.67436  0.66772  0.67436]\n",
      "\tstems           [ 0.66973  0.67913  0.66973  0.67913]\n",
      "\twords_not_stop  [ 0.65747  0.66276  0.65747  0.66276]\n",
      "\tstems_not_stop  [ 0.67028  0.67904  0.67028  0.67904]\n",
      "\trf              [ 0.6447   0.65302  0.6447   0.65302]\n",
      "\tlr_l1           [ 0.65321  0.66196  0.65321  0.66196]\n",
      "\tlr_l2           [ 0.65321  0.66196  0.65321  0.66196]\n",
      "\tranknet         [ 0.65613  0.66154  0.65613  0.66154]\n",
      "\tmy_rf           [ 0.67083  0.67863  0.67083  0.67863]\n"
     ]
    }
   ],
   "source": [
    "for k in sfn:\n",
    "    print k\n",
    "    rk = ranks[k]\n",
    "    for tp in tps + models.keys() + rk_models.keys() + my_models.keys():\n",
    "        rk.sort_values(['QuestionID', 'rank_' + tp], inplace=True)\n",
    "        grp = rk.Label.groupby(rk.QuestionID)\n",
    "        print '\\t', '{: <15}'.format(tp), np.round([MAP(grp), MRR(grp), MAP(grp, keep_no_ans=False), MRR(grp, keep_no_ans=False)], 5)"
   ]
  },
  {
   "cell_type": "code",
   "execution_count": 222,
   "metadata": {
    "collapsed": false
   },
   "outputs": [],
   "source": [
    "col = 'rank_' + 'my_rf'\n",
    "rank_dev[['QuestionID', 'SentenceID', col]].sort_values(['QuestionID', col]).to_csv('rank.txt', sep='\\t', header=False, index=False)"
   ]
  },
  {
   "cell_type": "code",
   "execution_count": 104,
   "metadata": {
    "collapsed": true
   },
   "outputs": [],
   "source": [
    "class t(object):\n",
    "    x = 1\n",
    "    y = [x]\n",
    "    def __init__(self, v):\n",
    "        print v + t.y[0]"
   ]
  },
  {
   "cell_type": "code",
   "execution_count": 105,
   "metadata": {
    "collapsed": false
   },
   "outputs": [
    {
     "name": "stdout",
     "output_type": "stream",
     "text": [
      "11\n"
     ]
    },
    {
     "data": {
      "text/plain": [
       "<__main__.t at 0x7f7b73608790>"
      ]
     },
     "execution_count": 105,
     "metadata": {},
     "output_type": "execute_result"
    }
   ],
   "source": [
    "t(10)"
   ]
  },
  {
   "cell_type": "code",
   "execution_count": 108,
   "metadata": {
    "collapsed": true
   },
   "outputs": [],
   "source": [
    "x = collections.Counter()"
   ]
  },
  {
   "cell_type": "code",
   "execution_count": 109,
   "metadata": {
    "collapsed": false
   },
   "outputs": [
    {
     "data": {
      "text/plain": [
       "<dictionary-keyiterator at 0x7f7b75c5f2b8>"
      ]
     },
     "execution_count": 109,
     "metadata": {},
     "output_type": "execute_result"
    }
   ],
   "source": []
  },
  {
   "cell_type": "code",
   "execution_count": 110,
   "metadata": {
    "collapsed": true
   },
   "outputs": [],
   "source": [
    "y = data_dev.Label"
   ]
  },
  {
   "cell_type": "code",
   "execution_count": 111,
   "metadata": {
    "collapsed": true
   },
   "outputs": [],
   "source": [
    "d = DataFrame({}, index=data_dev.index)"
   ]
  },
  {
   "cell_type": "code",
   "execution_count": 112,
   "metadata": {
    "collapsed": true
   },
   "outputs": [],
   "source": [
    "d['x'] = range(len(data_dev.index))"
   ]
  },
  {
   "cell_type": "code",
   "execution_count": 113,
   "metadata": {
    "collapsed": true
   },
   "outputs": [],
   "source": [
    "d['y']  = y"
   ]
  },
  {
   "cell_type": "code",
   "execution_count": 118,
   "metadata": {
    "collapsed": false
   },
   "outputs": [
    {
     "data": {
      "text/plain": [
       "QAID\n",
       "Q11*D11-0    0\n",
       "Q11*D11-1    0\n",
       "Q11*D11-2    0\n",
       "Q11*D11-3    1\n",
       "Q11*D11-4    1\n",
       "Name: Label, dtype: int64"
      ]
     },
     "execution_count": 118,
     "metadata": {},
     "output_type": "execute_result"
    }
   ],
   "source": [
    "y.head()"
   ]
  },
  {
   "cell_type": "code",
   "execution_count": 115,
   "metadata": {
    "collapsed": true
   },
   "outputs": [],
   "source": [
    "d.sort_values('y', inplace=True)"
   ]
  },
  {
   "cell_type": "code",
   "execution_count": 116,
   "metadata": {
    "collapsed": false
   },
   "outputs": [
    {
     "data": {
      "text/html": [
       "<div>\n",
       "<table border=\"1\" class=\"dataframe\">\n",
       "  <thead>\n",
       "    <tr style=\"text-align: right;\">\n",
       "      <th></th>\n",
       "      <th>x</th>\n",
       "      <th>y</th>\n",
       "    </tr>\n",
       "    <tr>\n",
       "      <th>QAID</th>\n",
       "      <th></th>\n",
       "      <th></th>\n",
       "    </tr>\n",
       "  </thead>\n",
       "  <tbody>\n",
       "    <tr>\n",
       "      <th>Q11*D11-0</th>\n",
       "      <td>0</td>\n",
       "      <td>0</td>\n",
       "    </tr>\n",
       "    <tr>\n",
       "      <th>Q1833*D1734-6</th>\n",
       "      <td>707</td>\n",
       "      <td>0</td>\n",
       "    </tr>\n",
       "    <tr>\n",
       "      <th>Q1833*D1734-7</th>\n",
       "      <td>708</td>\n",
       "      <td>0</td>\n",
       "    </tr>\n",
       "    <tr>\n",
       "      <th>Q1833*D1734-8</th>\n",
       "      <td>709</td>\n",
       "      <td>0</td>\n",
       "    </tr>\n",
       "    <tr>\n",
       "      <th>Q1840*D1740-1</th>\n",
       "      <td>711</td>\n",
       "      <td>0</td>\n",
       "    </tr>\n",
       "  </tbody>\n",
       "</table>\n",
       "</div>"
      ],
      "text/plain": [
       "                 x  y\n",
       "QAID                 \n",
       "Q11*D11-0        0  0\n",
       "Q1833*D1734-6  707  0\n",
       "Q1833*D1734-7  708  0\n",
       "Q1833*D1734-8  709  0\n",
       "Q1840*D1740-1  711  0"
      ]
     },
     "execution_count": 116,
     "metadata": {},
     "output_type": "execute_result"
    }
   ],
   "source": [
    "d.head()"
   ]
  },
  {
   "cell_type": "code",
   "execution_count": 251,
   "metadata": {
    "collapsed": false
   },
   "outputs": [
    {
     "data": {
      "text/plain": [
       "<module 'deap.tools' from '/home/pkuas/chenqy/anaconda2/lib/python2.7/site-packages/deap/tools/__init__.pyc'>"
      ]
     },
     "execution_count": 251,
     "metadata": {},
     "output_type": "execute_result"
    }
   ],
   "source": [
    "reload(base)\n",
    "reload(creator)\n",
    "reload(tools)"
   ]
  },
  {
   "cell_type": "code",
   "execution_count": 262,
   "metadata": {
    "collapsed": true
   },
   "outputs": [],
   "source": [
    "# g = RFGA(data_trn.QuestionID, features_trn, data_trn.Label, data_dev.QuestionID, features_dev, data_dev.Label)"
   ]
  },
  {
   "cell_type": "code",
   "execution_count": 264,
   "metadata": {
    "collapsed": false
   },
   "outputs": [],
   "source": [
    "#g.run(NPOP=10, NGEN=10, CXPB=0.5, MUTPB=0.5)"
   ]
  }
 ],
 "metadata": {
  "kernelspec": {
   "display_name": "Python [conda root]",
   "language": "python",
   "name": "conda-root-py"
  },
  "language_info": {
   "codemirror_mode": {
    "name": "ipython",
    "version": 2
   },
   "file_extension": ".py",
   "mimetype": "text/x-python",
   "name": "python",
   "nbconvert_exporter": "python",
   "pygments_lexer": "ipython2",
   "version": "2.7.12"
  }
 },
 "nbformat": 4,
 "nbformat_minor": 0
}
