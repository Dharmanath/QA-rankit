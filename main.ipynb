{
 "cells": [
  {
   "cell_type": "code",
   "execution_count": 411,
   "metadata": {
    "collapsed": true
   },
   "outputs": [],
   "source": [
    "import sys, os, collections, copy, re\n",
    "import nltk, codecs\n",
    "import numpy as np\n",
    "import pandas as pd\n",
    "from pandas import DataFrame, Series\n",
    "from nltk.corpus import stopwords\n",
    "from nltk.tokenize import RegexpTokenizer\n",
    "from util import *"
   ]
  },
  {
   "cell_type": "code",
   "execution_count": 89,
   "metadata": {
    "collapsed": true
   },
   "outputs": [],
   "source": [
    "UNKNOWN_WORD = ':-)'"
   ]
  },
  {
   "cell_type": "code",
   "execution_count": 71,
   "metadata": {
    "collapsed": true
   },
   "outputs": [],
   "source": [
    "data_dir = 'data/'\n",
    "fn = {'trn':data_dir + 'WikiQA-train.tsv', 'dev':data_dir + 'WikiQA-dev.tsv', 'test':data_dir + 'WikiQA-test.tsv'}"
   ]
  },
  {
   "cell_type": "code",
   "execution_count": 272,
   "metadata": {
    "collapsed": true
   },
   "outputs": [],
   "source": [
    "#read_data = lambda fn : pd.read_csv(fn, sep='\\t', header=0, index_col='QuestionID')\n",
    "def read_data(f):\n",
    "    data = pd.read_csv(f, sep='\\t', header=0)\n",
    "    data['QAID'] = data['QuestionID'] + '*' + data['SentenceID']\n",
    "    data.index = data['QAID']\n",
    "    for col in ['Question', 'Sentence']:\n",
    "        data[col] = map(lambda x : codecs.decode(x.lower(), 'UTF-8'), data[col])\n",
    "    questions = dict(zip(data['QuestionID'], data['Question']))\n",
    "    return data, questions"
   ]
  },
  {
   "cell_type": "code",
   "execution_count": 273,
   "metadata": {
    "collapsed": false
   },
   "outputs": [
    {
     "name": "stdout",
     "output_type": "stream",
     "text": [
      "test (2349, 7) 2349\n",
      "dev (1130, 8) 1130\n",
      "trn (20347, 8) 20347\n"
     ]
    }
   ],
   "source": [
    "data, questions = {}, {}\n",
    "for k in fn:\n",
    "    data[k], questions[k] = read_data(fn[k])\n",
    "    print k, data[k].shape, len(set(data[k]['QAID']))"
   ]
  },
  {
   "cell_type": "code",
   "execution_count": 377,
   "metadata": {
    "collapsed": true
   },
   "outputs": [],
   "source": [
    "data_trn, data_dev, data_test = data['trn'], data['dev'], data['test'] # for convienience"
   ]
  },
  {
   "cell_type": "code",
   "execution_count": 383,
   "metadata": {
    "collapsed": false
   },
   "outputs": [
    {
     "name": "stdout",
     "output_type": "stream",
     "text": [
      "trn \n",
      "0    1245\n",
      "1     744\n",
      "2     103\n",
      "3      20\n",
      "7       2\n",
      "5       1\n",
      "6       1\n",
      "4       1\n",
      "Name: Label, dtype: int64\n",
      "dev \n",
      "1    115\n",
      "2      9\n",
      "4      1\n",
      "3      1\n",
      "Name: Label, dtype: int64\n"
     ]
    }
   ],
   "source": [
    "# distribution of number of answers each question has\n",
    "for k in ['trn', 'dev']:\n",
    "    grp = data[k]['Label'].groupby(data[k]['QuestionID'])\n",
    "    print k, '\\n', grp.agg(lambda v : v.sum()).value_counts()"
   ]
  },
  {
   "cell_type": "code",
   "execution_count": null,
   "metadata": {
    "collapsed": true
   },
   "outputs": [],
   "source": []
  },
  {
   "cell_type": "code",
   "execution_count": 274,
   "metadata": {
    "collapsed": false
   },
   "outputs": [
    {
     "name": "stdout",
     "output_type": "stream",
     "text": [
      "2486 2486\n"
     ]
    }
   ],
   "source": [
    "t = set(questions['trn']), set(questions['dev']), set(questions['test'])\n",
    "print len(t[0] | t[1] | t[2]), sum([len(v) for v in t])"
   ]
  },
  {
   "cell_type": "code",
   "execution_count": 242,
   "metadata": {
    "collapsed": true
   },
   "outputs": [],
   "source": [
    "# qtokens = {k:{qid:nltk.word_tokenize(q) for qid, q in questions[k].items() } for k in fn }"
   ]
  },
  {
   "cell_type": "code",
   "execution_count": 275,
   "metadata": {
    "collapsed": true
   },
   "outputs": [],
   "source": [
    "regex_tokenizer = RegexpTokenizer(r'\\w+')\n",
    "lancaster = nltk.LancasterStemmer()\n",
    "def sentence2words(sent):\n",
    "    res = {}\n",
    "    res['tokens'] = nltk.word_tokenize(sent)\n",
    "    res['words'] = regex_tokenizer.tokenize(sent)\n",
    "    res['words_not_stop'] = filter(lambda word : word not in stopwords.words('english'), res['words'])\n",
    "    res['stems'] = [lancaster.stem(w) for w in res['words_not_stop']]\n",
    "    return res"
   ]
  },
  {
   "cell_type": "code",
   "execution_count": 276,
   "metadata": {
    "collapsed": true
   },
   "outputs": [],
   "source": [
    "sent_words = dict()"
   ]
  },
  {
   "cell_type": "code",
   "execution_count": 277,
   "metadata": {
    "collapsed": false
   },
   "outputs": [],
   "source": [
    "for k in fn:\n",
    "    for qid, q in questions[k].items():\n",
    "        sent_words[qid] = sentence2words(q)\n",
    "    d = data[k]\n",
    "    for qaid in d.index:\n",
    "        sent_words[qaid] = sentence2words(d.get_value(qaid, 'Sentence'))"
   ]
  },
  {
   "cell_type": "code",
   "execution_count": null,
   "metadata": {
    "collapsed": true
   },
   "outputs": [],
   "source": []
  },
  {
   "cell_type": "code",
   "execution_count": null,
   "metadata": {
    "collapsed": true
   },
   "outputs": [],
   "source": []
  },
  {
   "cell_type": "code",
   "execution_count": 281,
   "metadata": {
    "collapsed": true
   },
   "outputs": [],
   "source": [
    "#first_word = lambda sent : sent[:sent.find(' ')]\n",
    "first_token = lambda tokens : tokens[0]\n",
    "second_token = lambda tokens : UNKNOWN_WORD if len(tokens) == 1 else tokens[1]\n",
    "first_two_tokens = lambda tokens : ' '.join(tokens[:2])"
   ]
  },
  {
   "cell_type": "code",
   "execution_count": 282,
   "metadata": {
    "collapsed": false
   },
   "outputs": [],
   "source": [
    "for k in fn:\n",
    "    for col, func in [('token1', first_token), ('token2', second_token), ('token12', first_two_tokens)]:\n",
    "        tmp = Series(map(func, qtokens[k].values()), index=qtokens[k].keys())\n",
    "        data[k][col] = tmp[data[k]['QuestionID']].values"
   ]
  },
  {
   "cell_type": "code",
   "execution_count": 354,
   "metadata": {
    "collapsed": false
   },
   "outputs": [
    {
     "data": {
      "text/html": [
       "<div>\n",
       "<table border=\"1\" class=\"dataframe\">\n",
       "  <thead>\n",
       "    <tr style=\"text-align: right;\">\n",
       "      <th></th>\n",
       "      <th>QuestionID</th>\n",
       "      <th>Question</th>\n",
       "      <th>DocumentID</th>\n",
       "      <th>DocumentTitle</th>\n",
       "      <th>SentenceID</th>\n",
       "      <th>Sentence</th>\n",
       "      <th>Label</th>\n",
       "      <th>QAID</th>\n",
       "      <th>token1</th>\n",
       "      <th>token2</th>\n",
       "      <th>token12</th>\n",
       "    </tr>\n",
       "    <tr>\n",
       "      <th>QAID</th>\n",
       "      <th></th>\n",
       "      <th></th>\n",
       "      <th></th>\n",
       "      <th></th>\n",
       "      <th></th>\n",
       "      <th></th>\n",
       "      <th></th>\n",
       "      <th></th>\n",
       "      <th></th>\n",
       "      <th></th>\n",
       "      <th></th>\n",
       "    </tr>\n",
       "  </thead>\n",
       "  <tbody>\n",
       "    <tr>\n",
       "      <th>Q1*D1-0</th>\n",
       "      <td>Q1</td>\n",
       "      <td>how are glacier caves formed?</td>\n",
       "      <td>D1</td>\n",
       "      <td>Glacier cave</td>\n",
       "      <td>D1-0</td>\n",
       "      <td>a partly submerged glacier cave on perito more...</td>\n",
       "      <td>0</td>\n",
       "      <td>Q1*D1-0</td>\n",
       "      <td>how</td>\n",
       "      <td>are</td>\n",
       "      <td>how are</td>\n",
       "    </tr>\n",
       "    <tr>\n",
       "      <th>Q1*D1-1</th>\n",
       "      <td>Q1</td>\n",
       "      <td>how are glacier caves formed?</td>\n",
       "      <td>D1</td>\n",
       "      <td>Glacier cave</td>\n",
       "      <td>D1-1</td>\n",
       "      <td>the ice facade is approximately 60 m high</td>\n",
       "      <td>0</td>\n",
       "      <td>Q1*D1-1</td>\n",
       "      <td>how</td>\n",
       "      <td>are</td>\n",
       "      <td>how are</td>\n",
       "    </tr>\n",
       "    <tr>\n",
       "      <th>Q1*D1-2</th>\n",
       "      <td>Q1</td>\n",
       "      <td>how are glacier caves formed?</td>\n",
       "      <td>D1</td>\n",
       "      <td>Glacier cave</td>\n",
       "      <td>D1-2</td>\n",
       "      <td>ice formations in the titlis glacier cave</td>\n",
       "      <td>0</td>\n",
       "      <td>Q1*D1-2</td>\n",
       "      <td>how</td>\n",
       "      <td>are</td>\n",
       "      <td>how are</td>\n",
       "    </tr>\n",
       "    <tr>\n",
       "      <th>Q1*D1-3</th>\n",
       "      <td>Q1</td>\n",
       "      <td>how are glacier caves formed?</td>\n",
       "      <td>D1</td>\n",
       "      <td>Glacier cave</td>\n",
       "      <td>D1-3</td>\n",
       "      <td>a glacier cave is a cave formed within the ice...</td>\n",
       "      <td>1</td>\n",
       "      <td>Q1*D1-3</td>\n",
       "      <td>how</td>\n",
       "      <td>are</td>\n",
       "      <td>how are</td>\n",
       "    </tr>\n",
       "    <tr>\n",
       "      <th>Q1*D1-4</th>\n",
       "      <td>Q1</td>\n",
       "      <td>how are glacier caves formed?</td>\n",
       "      <td>D1</td>\n",
       "      <td>Glacier cave</td>\n",
       "      <td>D1-4</td>\n",
       "      <td>glacier caves are often called ice caves , but...</td>\n",
       "      <td>0</td>\n",
       "      <td>Q1*D1-4</td>\n",
       "      <td>how</td>\n",
       "      <td>are</td>\n",
       "      <td>how are</td>\n",
       "    </tr>\n",
       "  </tbody>\n",
       "</table>\n",
       "</div>"
      ],
      "text/plain": [
       "        QuestionID                       Question DocumentID DocumentTitle  \\\n",
       "QAID                                                                         \n",
       "Q1*D1-0         Q1  how are glacier caves formed?         D1  Glacier cave   \n",
       "Q1*D1-1         Q1  how are glacier caves formed?         D1  Glacier cave   \n",
       "Q1*D1-2         Q1  how are glacier caves formed?         D1  Glacier cave   \n",
       "Q1*D1-3         Q1  how are glacier caves formed?         D1  Glacier cave   \n",
       "Q1*D1-4         Q1  how are glacier caves formed?         D1  Glacier cave   \n",
       "\n",
       "        SentenceID                                           Sentence  Label  \\\n",
       "QAID                                                                           \n",
       "Q1*D1-0       D1-0  a partly submerged glacier cave on perito more...      0   \n",
       "Q1*D1-1       D1-1          the ice facade is approximately 60 m high      0   \n",
       "Q1*D1-2       D1-2          ice formations in the titlis glacier cave      0   \n",
       "Q1*D1-3       D1-3  a glacier cave is a cave formed within the ice...      1   \n",
       "Q1*D1-4       D1-4  glacier caves are often called ice caves , but...      0   \n",
       "\n",
       "            QAID token1 token2  token12  \n",
       "QAID                                     \n",
       "Q1*D1-0  Q1*D1-0    how    are  how are  \n",
       "Q1*D1-1  Q1*D1-1    how    are  how are  \n",
       "Q1*D1-2  Q1*D1-2    how    are  how are  \n",
       "Q1*D1-3  Q1*D1-3    how    are  how are  \n",
       "Q1*D1-4  Q1*D1-4    how    are  how are  "
      ]
     },
     "execution_count": 354,
     "metadata": {},
     "output_type": "execute_result"
    }
   ],
   "source": [
    "data['trn'].head()"
   ]
  },
  {
   "cell_type": "code",
   "execution_count": 284,
   "metadata": {
    "collapsed": true
   },
   "outputs": [
    {
     "name": "stdout",
     "output_type": "stream",
     "text": [
      "test \n",
      "\n",
      "what     1245\n",
      "how       381\n",
      "who       272\n",
      "where     245\n",
      "when      206\n",
      "Name: token1, dtype: int64 is       674\n",
      "did      205\n",
      "are      171\n",
      "was      157\n",
      "does     134\n",
      "many     118\n",
      "year      82\n",
      "wrote     51\n",
      "do        42\n",
      "much      41\n",
      "Name: token2, dtype: int64 \n",
      "\n",
      "dev \n",
      "\n",
      "what        635\n",
      "how         136\n",
      "when        135\n",
      "where       113\n",
      "who         109\n",
      "whatever      2\n",
      "Name: token1, dtype: int64 is      252\n",
      "did     143\n",
      "are     126\n",
      "was      99\n",
      "many     76\n",
      "does     46\n",
      "year     40\n",
      "won      31\n",
      "part     25\n",
      "kind     25\n",
      "Name: token2, dtype: int64 \n",
      "\n",
      "trn \n",
      "\n",
      "what     10107\n",
      "how       4246\n",
      "who       2559\n",
      "when      1879\n",
      "where     1556\n",
      "Name: token1, dtype: int64 is         5678\n",
      "was        1736\n",
      "did        1602\n",
      "many       1528\n",
      "are        1324\n",
      "does       1243\n",
      "do          492\n",
      "much        355\n",
      "year        199\n",
      "country     189\n",
      "Name: token2, dtype: int64 \n",
      "\n"
     ]
    }
   ],
   "source": [
    "for k in fn:\n",
    "    print k, '\\n'\n",
    "    print data[k]['token1'].value_counts(), data[k]['token2'].value_counts().head(10), '\\n'"
   ]
  },
  {
   "cell_type": "code",
   "execution_count": 346,
   "metadata": {
    "collapsed": false
   },
   "outputs": [],
   "source": [
    "features = {key:DataFrame({}, index=data[key].index) for key in fn}\n",
    "features_trn = features['trn']\n",
    "features_dev = features['dev']\n",
    "features_test = features['test']"
   ]
  },
  {
   "cell_type": "code",
   "execution_count": 347,
   "metadata": {
    "collapsed": false
   },
   "outputs": [],
   "source": [
    "for k in fn:\n",
    "    d = data[k]\n",
    "    func = lambda qaid : count_word_cooccurrence(sent_words[qaid]['stems'], sent_words[d.get_value(qaid, 'QuestionID')]['stems'])\n",
    "    features[k]['num_cooccur'] = d['QAID'].apply(func)"
   ]
  },
  {
   "cell_type": "code",
   "execution_count": 353,
   "metadata": {
    "collapsed": false
   },
   "outputs": [
    {
     "data": {
      "text/plain": [
       "Index([u'QuestionID', u'Question', u'DocumentID', u'DocumentTitle',\n",
       "       u'SentenceID', u'Sentence', u'QAID', u'token1', u'token2', u'token12'],\n",
       "      dtype='object')"
      ]
     },
     "execution_count": 353,
     "metadata": {},
     "output_type": "execute_result"
    }
   ],
   "source": [
    "data[k].columns"
   ]
  },
  {
   "cell_type": "code",
   "execution_count": 424,
   "metadata": {
    "collapsed": false
   },
   "outputs": [],
   "source": [
    "for k in fn:\n",
    "    for col in ['QuestionID', 'SentenceID']:\n",
    "        features[k][col] = data[k][col]\n",
    "    if k != 'test':\n",
    "        features[k]['Label'] = data[k]['Label']\n",
    "    features[k]['rank'] = features[k].groupby('QuestionID')['num_cooccur'].rank(method='min', ascending=False).astype(int)\n",
    "    features[k].sort_values(['QuestionID', 'rank'], inplace=True)"
   ]
  },
  {
   "cell_type": "code",
   "execution_count": 425,
   "metadata": {
    "collapsed": false
   },
   "outputs": [
    {
     "data": {
      "text/html": [
       "<div>\n",
       "<table border=\"1\" class=\"dataframe\">\n",
       "  <thead>\n",
       "    <tr style=\"text-align: right;\">\n",
       "      <th></th>\n",
       "      <th>num_cooccur</th>\n",
       "      <th>QuestionID</th>\n",
       "      <th>Label</th>\n",
       "      <th>rank</th>\n",
       "      <th>SentenceID</th>\n",
       "    </tr>\n",
       "    <tr>\n",
       "      <th>QAID</th>\n",
       "      <th></th>\n",
       "      <th></th>\n",
       "      <th></th>\n",
       "      <th></th>\n",
       "      <th></th>\n",
       "    </tr>\n",
       "  </thead>\n",
       "  <tbody>\n",
       "    <tr>\n",
       "      <th>Q1*D1-2</th>\n",
       "      <td>3</td>\n",
       "      <td>Q1</td>\n",
       "      <td>0</td>\n",
       "      <td>1</td>\n",
       "      <td>D1-2</td>\n",
       "    </tr>\n",
       "    <tr>\n",
       "      <th>Q1*D1-3</th>\n",
       "      <td>3</td>\n",
       "      <td>Q1</td>\n",
       "      <td>1</td>\n",
       "      <td>1</td>\n",
       "      <td>D1-3</td>\n",
       "    </tr>\n",
       "    <tr>\n",
       "      <th>Q1*D1-0</th>\n",
       "      <td>2</td>\n",
       "      <td>Q1</td>\n",
       "      <td>0</td>\n",
       "      <td>3</td>\n",
       "      <td>D1-0</td>\n",
       "    </tr>\n",
       "    <tr>\n",
       "      <th>Q1*D1-4</th>\n",
       "      <td>2</td>\n",
       "      <td>Q1</td>\n",
       "      <td>0</td>\n",
       "      <td>3</td>\n",
       "      <td>D1-4</td>\n",
       "    </tr>\n",
       "    <tr>\n",
       "      <th>Q1*D1-1</th>\n",
       "      <td>0</td>\n",
       "      <td>Q1</td>\n",
       "      <td>0</td>\n",
       "      <td>5</td>\n",
       "      <td>D1-1</td>\n",
       "    </tr>\n",
       "    <tr>\n",
       "      <th>Q10*D10-0</th>\n",
       "      <td>3</td>\n",
       "      <td>Q10</td>\n",
       "      <td>0</td>\n",
       "      <td>1</td>\n",
       "      <td>D10-0</td>\n",
       "    </tr>\n",
       "  </tbody>\n",
       "</table>\n",
       "</div>"
      ],
      "text/plain": [
       "           num_cooccur QuestionID  Label  rank SentenceID\n",
       "QAID                                                     \n",
       "Q1*D1-2              3         Q1      0     1       D1-2\n",
       "Q1*D1-3              3         Q1      1     1       D1-3\n",
       "Q1*D1-0              2         Q1      0     3       D1-0\n",
       "Q1*D1-4              2         Q1      0     3       D1-4\n",
       "Q1*D1-1              0         Q1      0     5       D1-1\n",
       "Q10*D10-0            3        Q10      0     1      D10-0"
      ]
     },
     "execution_count": 425,
     "metadata": {},
     "output_type": "execute_result"
    }
   ],
   "source": [
    "features_trn.head(6)"
   ]
  },
  {
   "cell_type": "code",
   "execution_count": 429,
   "metadata": {
    "collapsed": false
   },
   "outputs": [
    {
     "name": "stdout",
     "output_type": "stream",
     "text": [
      "trn 0.272069444101 0.27696773753\n",
      "dev 0.678348481325 0.686779930828\n"
     ]
    }
   ],
   "source": [
    "for k in ['trn', 'dev']:\n",
    "    ft = features[k]\n",
    "    grp = ft.Label.groupby(ft.QuestionID)\n",
    "    print k, MAP(grp), MRR(grp)"
   ]
  },
  {
   "cell_type": "code",
   "execution_count": 427,
   "metadata": {
    "collapsed": false
   },
   "outputs": [],
   "source": [
    "features_dev[['QuestionID', 'SentenceID', 'rank']].to_csv('rank.txt', sep='\\t', header=False, index=False)"
   ]
  },
  {
   "cell_type": "code",
   "execution_count": null,
   "metadata": {
    "collapsed": true
   },
   "outputs": [],
   "source": []
  }
 ],
 "metadata": {
  "kernelspec": {
   "display_name": "Python [Root]",
   "language": "python",
   "name": "Python [Root]"
  },
  "language_info": {
   "codemirror_mode": {
    "name": "ipython",
    "version": 2
   },
   "file_extension": ".py",
   "mimetype": "text/x-python",
   "name": "python",
   "nbconvert_exporter": "python",
   "pygments_lexer": "ipython2",
   "version": "2.7.12"
  }
 },
 "nbformat": 4,
 "nbformat_minor": 0
}
