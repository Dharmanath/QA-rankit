{
 "cells": [
  {
   "cell_type": "code",
   "execution_count": null,
   "metadata": {
    "collapsed": true
   },
   "outputs": [],
   "source": [
    "# coding: utf-8\n",
    "# Please use Python 2.\n",
    "# Check if all the required packages are installed.\n",
    "# Please use Theano as backend of Keras.\n",
    "# Using IPython or Jupyter Notebook to run this code is strongly recommended!\n",
    "# Run line by line or block by block, and you can config some important parameters\n",
    "# and output whatever you want!"
   ]
  },
  {
   "cell_type": "code",
   "execution_count": 1,
   "metadata": {
    "collapsed": false
   },
   "outputs": [
    {
     "name": "stderr",
     "output_type": "stream",
     "text": [
      "Using Theano backend.\n"
     ]
    }
   ],
   "source": [
    "import sys, os, collections, re, commands, csv\n",
    "import nltk, codecs\n",
    "import numpy as np\n",
    "import pandas as pd\n",
    "from pandas import DataFrame, Series\n",
    "from nltk.corpus import stopwords\n",
    "from nltk.tokenize import RegexpTokenizer\n",
    "from keras.preprocessing.text import Tokenizer\n",
    "from nltk.stem import WordNetLemmatizer\n",
    "from util import *\n",
    "from PairWiseRanker import *"
   ]
  },
  {
   "cell_type": "code",
   "execution_count": 2,
   "metadata": {
    "collapsed": true
   },
   "outputs": [],
   "source": [
    "from IPython.display import clear_output"
   ]
  },
  {
   "cell_type": "code",
   "execution_count": 23,
   "metadata": {
    "collapsed": true
   },
   "outputs": [],
   "source": [
    "from copy import deepcopy"
   ]
  },
  {
   "cell_type": "code",
   "execution_count": 2,
   "metadata": {
    "collapsed": false
   },
   "outputs": [
    {
     "name": "stdout",
     "output_type": "stream",
     "text": [
      "Populating the interactive namespace from numpy and matplotlib\n"
     ]
    },
    {
     "name": "stderr",
     "output_type": "stream",
     "text": [
      "/home/pkuas/chenqy/anaconda2/lib/python2.7/site-packages/IPython/core/magics/pylab.py:161: UserWarning: pylab import has clobbered these variables: ['copy']\n",
      "`%matplotlib` prevents importing * from pylab and numpy\n",
      "  \"\\n`%matplotlib` prevents importing * from pylab and numpy\"\n"
     ]
    }
   ],
   "source": [
    "% pylab inline"
   ]
  },
  {
   "cell_type": "code",
   "execution_count": 3,
   "metadata": {
    "collapsed": true
   },
   "outputs": [],
   "source": [
    "UNKNOWN_WORD = ':-)'"
   ]
  },
  {
   "cell_type": "code",
   "execution_count": 4,
   "metadata": {
    "collapsed": true
   },
   "outputs": [],
   "source": [
    "data_dir = 'data/'\n",
    "fn = {'trn':data_dir + 'WikiQA-train.tsv', 'dev':data_dir + 'WikiQA-dev.tsv', 'test':data_dir + 'WikiQA-test.tsv'}"
   ]
  },
  {
   "cell_type": "code",
   "execution_count": 5,
   "metadata": {
    "collapsed": true
   },
   "outputs": [],
   "source": [
    "word2vec_dir = '/store1/chenqy/'\n",
    "EMBEDDING_DIM = 50\n",
    "word2vec_fn = word2vec_dir + 'glove.6B.%dd.txt' % EMBEDDING_DIM"
   ]
  },
  {
   "cell_type": "code",
   "execution_count": 6,
   "metadata": {
    "collapsed": true
   },
   "outputs": [],
   "source": [
    "#read_data = lambda fn : pd.read_csv(fn, sep='\\t', header=0, index_col='QuestionID')\n",
    "def read_data(f):\n",
    "    data = pd.read_csv(f, sep='\\t', header=0, quoting=csv.QUOTE_NONE)\n",
    "    data['QAID'] = data['QuestionID'] + '*' + data['SentenceID']\n",
    "    data.index = data['QAID']\n",
    "    for col in ['Question', 'Sentence']:\n",
    "        data[col] = map(lambda x : codecs.decode(x.lower(), 'UTF-8'), data[col])\n",
    "    questions = dict(zip(data['QuestionID'], data['Question']))\n",
    "    return data, questions"
   ]
  },
  {
   "cell_type": "code",
   "execution_count": 7,
   "metadata": {
    "collapsed": false
   },
   "outputs": [
    {
     "name": "stdout",
     "output_type": "stream",
     "text": [
      "test (2351, 7) 2351\n",
      "dev (1130, 8) 1130\n",
      "trn (20360, 8) 20360\n"
     ]
    }
   ],
   "source": [
    "data, questions = {}, {}\n",
    "for k in fn:\n",
    "    data[k], questions[k] = read_data(fn[k])\n",
    "    print k, data[k].shape, len(set(data[k]['QAID']))"
   ]
  },
  {
   "cell_type": "code",
   "execution_count": 8,
   "metadata": {
    "collapsed": true
   },
   "outputs": [],
   "source": [
    "data_trn, data_dev, data_test = data['trn'], data['dev'], data['test'] # for convienience"
   ]
  },
  {
   "cell_type": "code",
   "execution_count": 9,
   "metadata": {
    "collapsed": false
   },
   "outputs": [
    {
     "name": "stdout",
     "output_type": "stream",
     "text": [
      "dev \n",
      "1    115\n",
      "2      9\n",
      "4      1\n",
      "3      1\n",
      "Name: Label, dtype: int64\n",
      "trn \n",
      "0    1245\n",
      "1     745\n",
      "2     103\n",
      "3      20\n",
      "7       2\n",
      "5       1\n",
      "6       1\n",
      "4       1\n",
      "Name: Label, dtype: int64\n"
     ]
    }
   ],
   "source": [
    "# distribution of number of answers each question has\n",
    "for k in fn:\n",
    "    if k == 'test':\n",
    "        continue\n",
    "    grp = data[k]['Label'].groupby(data[k]['QuestionID'])\n",
    "    print k, '\\n', grp.agg(lambda v : v.sum()).value_counts()"
   ]
  },
  {
   "cell_type": "code",
   "execution_count": 10,
   "metadata": {
    "collapsed": false
   },
   "outputs": [
    {
     "name": "stdout",
     "output_type": "stream",
     "text": [
      "2118 126 243 2487 2487\n"
     ]
    }
   ],
   "source": [
    "t = set(questions['trn']), set(questions['dev']), set(questions['test'])\n",
    "print len(t[0]), len(t[1]), len(t[2]), len(t[0] | t[1] | t[2]), sum([len(v) for v in t])"
   ]
  },
  {
   "cell_type": "code",
   "execution_count": 12,
   "metadata": {
    "collapsed": true
   },
   "outputs": [],
   "source": [
    "# qtokens = {k:{qid:nltk.word_tokenize(q) for qid, q in questions[k].items() } for k in fn }"
   ]
  },
  {
   "cell_type": "code",
   "execution_count": 13,
   "metadata": {
    "collapsed": true
   },
   "outputs": [],
   "source": [
    "wnl = WordNetLemmatizer()\n",
    "regex_tokenizer = RegexpTokenizer(r'\\w+')\n",
    "lancaster = nltk.LancasterStemmer()\n",
    "def sentence2words(sent):\n",
    "    res = {}\n",
    "    res['tokens'] = nltk.word_tokenize(sent)\n",
    "    res['words'] = regex_tokenizer.tokenize(sent)\n",
    "    res['lemma'] = [wnl.lemmatize(w) for w in res['words']]\n",
    "    res['stems'] = [lancaster.stem(w) for w in res['words']]\n",
    "    res['words_not_stop'] = filter(lambda word : word not in stopwords.words('english'), res['words'])\n",
    "    res['stems_not_stop'] = [lancaster.stem(w) for w in res['words_not_stop']]\n",
    "    res['lemma_not_stop'] = [wnl.lemmatize(w) for w in res['words_not_stop']]\n",
    "    return res"
   ]
  },
  {
   "cell_type": "code",
   "execution_count": 14,
   "metadata": {
    "collapsed": false
   },
   "outputs": [],
   "source": [
    "tps = ['words', 'stems', 'words_not_stop', 'stems_not_stop', 'lemma', 'lemma_not_stop']"
   ]
  },
  {
   "cell_type": "code",
   "execution_count": 15,
   "metadata": {
    "collapsed": true
   },
   "outputs": [],
   "source": [
    "sent_words = dict()"
   ]
  },
  {
   "cell_type": "code",
   "execution_count": 16,
   "metadata": {
    "collapsed": false
   },
   "outputs": [],
   "source": [
    "for k in fn:# fn:\n",
    "    for qid, q in questions[k].items():\n",
    "        sent_words[qid] = sentence2words(q)\n",
    "    d = data[k]\n",
    "    for qaid in d.index:\n",
    "        sent_words[qaid] = sentence2words(d.get_value(qaid, 'Sentence'))"
   ]
  },
  {
   "cell_type": "code",
   "execution_count": 17,
   "metadata": {
    "collapsed": true
   },
   "outputs": [],
   "source": [
    "#first_word = lambda sent : sent[:sent.find(' ')]\n",
    "first_token = lambda tokens : tokens[0]\n",
    "second_token = lambda tokens : UNKNOWN_WORD if len(tokens) == 1 else tokens[1]\n",
    "first_two_tokens = lambda tokens : ' '.join(tokens[:2])"
   ]
  },
  {
   "cell_type": "code",
   "execution_count": 18,
   "metadata": {
    "collapsed": false
   },
   "outputs": [],
   "source": [
    "for k in fn:\n",
    "    for col, func in [('token1', first_token), ('token2', second_token), ('token12', first_two_tokens)]:\n",
    "        qids = list(set(data[k]['QuestionID']))\n",
    "        tmp = Series(map(func, map(lambda qid : sent_words[qid]['words'], qids)), index=qids)\n",
    "        data[k][col] = tmp[data[k]['QuestionID']].values"
   ]
  },
  {
   "cell_type": "code",
   "execution_count": 24,
   "metadata": {
    "collapsed": true
   },
   "outputs": [],
   "source": [
    "def get_question_type(data_x):\n",
    "    qtype = deepcopy(Series(data_x['token1'], index=data_x.index))\n",
    "    qtype[data_x['token12'] == 'what year'] = 'time'\n",
    "    qtype[data_x['token1'] == 'when'] = 'time'\n",
    "    qtype[data_x['token12'] == 'how many'] = 'number'\n",
    "    qtype[data_x['token1'] == 'where'] = 'place'\n",
    "    qtype[data_x['token1'] == 'who'] = 'person'\n",
    "    return qtype"
   ]
  },
  {
   "cell_type": "code",
   "execution_count": 25,
   "metadata": {
    "collapsed": false
   },
   "outputs": [
    {
     "data": {
      "text/plain": [
       "(5, 338, 286)"
      ]
     },
     "execution_count": 25,
     "metadata": {},
     "output_type": "execute_result"
    }
   ],
   "source": [
    "len(set(data_trn.token1)), len(set(data_trn.token12)), len(set(data_trn.token2))"
   ]
  },
  {
   "cell_type": "code",
   "execution_count": 26,
   "metadata": {
    "collapsed": false
   },
   "outputs": [],
   "source": [
    "for k in fn:\n",
    "    data[k]['qtype'] = get_question_type(data[k])"
   ]
  },
  {
   "cell_type": "code",
   "execution_count": 27,
   "metadata": {
    "collapsed": false
   },
   "outputs": [
    {
     "name": "stdout",
     "output_type": "stream",
     "text": [
      "test \n",
      "\n",
      "what     52.956189\n",
      "how      16.205870\n",
      "who      11.569545\n",
      "where    10.421097\n",
      "when      8.847299\n",
      "Name: token1, dtype: float64\n",
      "what is      22.288388\n",
      "what are      5.827308\n",
      "when did      5.784772\n",
      "how many      5.019141\n",
      "what year     3.487877\n",
      "where was     2.934921\n",
      "where is      2.892386\n",
      "what does     2.722246\n",
      "how did       2.254360\n",
      "who is        2.254360\n",
      "Name: token12, dtype: float64\n",
      "\n",
      "\n",
      "dev \n",
      "\n",
      "what        56.194690\n",
      "how         12.035398\n",
      "when        11.946903\n",
      "where       10.000000\n",
      "who          9.646018\n",
      "whatever     0.176991\n",
      "Name: token1, dtype: float64\n",
      "what is      14.424779\n",
      "what are     10.265487\n",
      "when did      9.203540\n",
      "how many      6.725664\n",
      "where is      5.132743\n",
      "what does     4.070796\n",
      "what was      3.982301\n",
      "what year     3.539823\n",
      "who is        2.743363\n",
      "when was      2.743363\n",
      "Name: token12, dtype: float64\n",
      "\n",
      "\n",
      "trn \n",
      "\n",
      "what     49.695481\n",
      "how      20.859528\n",
      "who      12.568762\n",
      "when      9.228880\n",
      "where     7.647348\n",
      "Name: token1, dtype: float64\n",
      "what is      19.965619\n",
      "how many      7.509823\n",
      "what are      4.705305\n",
      "when was      3.408644\n",
      "what does     3.163065\n",
      "when did      2.991159\n",
      "who is        2.946955\n",
      "where is      2.946955\n",
      "how did       2.254420\n",
      "what was      1.940079\n",
      "Name: token12, dtype: float64\n",
      "\n",
      "\n"
     ]
    }
   ],
   "source": [
    "for k in fn:\n",
    "    print k, '\\n'\n",
    "    for tk in ['token1', 'token12']:\n",
    "        print data[k][tk].value_counts().head(10) / float(data[k].shape[0]) * 100\n",
    "    print '\\n'"
   ]
  },
  {
   "cell_type": "code",
   "execution_count": 28,
   "metadata": {
    "collapsed": true
   },
   "outputs": [],
   "source": [
    "import math\n",
    "\n",
    "words_idf = dict()\n",
    "for tp in tps:\n",
    "    words_idf[tp] = dict()\n",
    "\n",
    "for tp in tps:\n",
    "    for qaid in sent_words:\n",
    "        for word in set(sent_words[qaid][tp]):\n",
    "            if (word in words_idf[tp]) == True:\n",
    "                words_idf[tp][word] = words_idf[tp][word] + 1\n",
    "            else:\n",
    "                words_idf[tp][word] = 1\n",
    "\n",
    "DocNum = len(sent_words)\n",
    "for tp in tps:\n",
    "    for w in words_idf[tp]:\n",
    "        words_idf[tp][w] = math.log(DocNum / words_idf[tp][w], 2)\n"
   ]
  },
  {
   "cell_type": "code",
   "execution_count": 29,
   "metadata": {
    "collapsed": true
   },
   "outputs": [],
   "source": [
    "def count_num_cooccur_weight(x, y, tp):\n",
    "    z = set(x) & set(y)\n",
    "    s = 0\n",
    "    for w in z:\n",
    "        s = s + words_idf[tp][w]\n",
    "    return s"
   ]
  },
  {
   "cell_type": "code",
   "execution_count": 30,
   "metadata": {
    "collapsed": true
   },
   "outputs": [],
   "source": [
    "#word embedding:\n",
    "# readEmbedFile\n",
    "from word2vec_util import * \n",
    "wordvecs = readEmbedFile(word2vec_fn)\n",
    "dim = EMBEDDING_DIM\n",
    "\n",
    "wordset2 = set()\n",
    "for tp in tps:\n",
    "    for w in words_idf[tp]:\n",
    "        wordset2.add(w)\n",
    "\n",
    "new_wv=dict()\n",
    "for w in wordvecs:\n",
    "    if (w in wordset2) == True:\n",
    "        new_wv[w] = wordvecs[w]\n",
    "wordvecs = new_wv\n",
    "new_wv = dict()"
   ]
  },
  {
   "cell_type": "code",
   "execution_count": 31,
   "metadata": {
    "collapsed": false
   },
   "outputs": [],
   "source": [
    "#using this!!!\n",
    "def count_wv_dis(x, y):\n",
    "    vx = [0 for c in range(dim)]\n",
    "    wn = 0\n",
    "    for w in x:\n",
    "        if w in wordvecs:\n",
    "            wn = wn + 1\n",
    "            for d in range(dim):\n",
    "                vx[d] += wordvecs[w][d]\n",
    "    if wn > 0:\n",
    "        for d in range(dim):\n",
    "            vx[d] /= wn\n",
    "    vy = [0 for c in range(dim)]\n",
    "    wn = 0\n",
    "    for w in y:\n",
    "        if w in wordvecs:\n",
    "            wn = wn + 1\n",
    "            for d in range(dim):\n",
    "                vy[d] += wordvecs[w][d]\n",
    "    if wn > 0:\n",
    "        for d in range(dim):\n",
    "            vy[d] /= wn\n",
    "    dis = 0;\n",
    "    for d in range(dim):\n",
    "        dis += (vx[d] - vy[d])*(vx[d] - vy[d])\n",
    "    return 0 - dis # larger, better\n",
    "\n",
    "def count_wv_dis_weight(x, y, tp):\n",
    "    vx = [0 for c in range(dim)]\n",
    "    wn = 0\n",
    "    for w in x:\n",
    "        if w in wordvecs:\n",
    "            wn = wn + words_idf[tp][w]\n",
    "            for d in range(dim):\n",
    "                vx[d] += wordvecs[w][d]*words_idf[tp][w]\n",
    "    if wn > 0:\n",
    "        for d in range(dim):\n",
    "            vx[d] /= wn\n",
    "    vy = [0 for c in range(dim)]\n",
    "    wn = 0\n",
    "    for w in y:\n",
    "        if w in wordvecs:\n",
    "            wn = wn + words_idf[tp][w]\n",
    "            for d in range(dim):\n",
    "                vy[d] += wordvecs[w][d]*words_idf[tp][w]\n",
    "    if wn > 0:\n",
    "        for d in range(dim):\n",
    "            vy[d] /= wn\n",
    "    dis = 0;\n",
    "    for d in range(dim):\n",
    "        dis += (vx[d] - vy[d])*(vx[d] - vy[d])\n",
    "    return 0 - dis # larger, better\n",
    "\n",
    "# for k in fn:\n",
    "#     d = data[k]\n",
    "#     for tp in tps:\n",
    "#         func = lambda qaid : count_wv_dis_weight(sent_words[qaid][tp], sent_words[d.get_value(qaid, 'QuestionID')][tp], tp)\n",
    "#         features[k][tp] = d['QAID'].apply(func)"
   ]
  },
  {
   "cell_type": "code",
   "execution_count": 33,
   "metadata": {
    "collapsed": false
   },
   "outputs": [
    {
     "name": "stdout",
     "output_type": "stream",
     "text": [
      " Found 35188 unique tokens.\n",
      "23 165\n"
     ]
    }
   ],
   "source": [
    "encode = lambda s : codecs.encode(s, 'UTF-8')\n",
    "ques_utf8 = {}\n",
    "sent_utf8 = {}\n",
    "for k in fn:\n",
    "    for qid, q in questions[k].items():\n",
    "        ques_utf8[qid] = encode(q)\n",
    "    d = data[k]\n",
    "    for qaid in d.index:\n",
    "        sent_utf8[qaid] = encode(d.get_value(qaid, 'Sentence'))\n",
    "\n",
    "texts = []\n",
    "texts.extend(ques_utf8.values())\n",
    "texts.extend(sent_utf8.values())\n",
    "tokenizer = Tokenizer(nb_words=None)\n",
    "tokenizer.fit_on_texts(texts)\n",
    "ques_seq = {qid:tokenizer.texts_to_sequences([tx])[0] for qid, tx in ques_utf8.items()}\n",
    "sent_seq = {qaid:tokenizer.texts_to_sequences([tx])[0] for qaid, tx in sent_utf8.items()}\n",
    "word_index = tokenizer.word_index\n",
    "print('Found %s unique tokens.' % len(word_index))\n",
    "print max([len(seq) for seq in ques_seq.values()]), max([len(seq) for seq in sent_seq.values()])\n",
    "# MAX_SENT_SEQUENCE_LENGTH = max([max([len(seq) for seq in sents_seq[k]]) for k in fn])\n",
    "ques_len = Series([len(q) for q in ques_seq.values()])\n",
    "sent_len = Series([len(s) for s in sent_seq.values()])\n",
    "MAX_QUES_SEQUENCE_LENGTH, MAX_SENT_SEQUENCE_LENGTH = 20, 60"
   ]
  },
  {
   "cell_type": "code",
   "execution_count": 34,
   "metadata": {
    "collapsed": false
   },
   "outputs": [],
   "source": [
    "word2vec = pd.read_csv(word2vec_fn, sep=' ', header=None, index_col=0, nrows=None, quoting=csv.QUOTE_NONE)\n",
    "embedding_index = {}\n",
    "for i, w in enumerate(word2vec.index):\n",
    "    embedding_index[w] = word2vec.values[i]\n",
    "\n",
    "embedding_matrix = np.zeros((len(word_index) + 1, EMBEDDING_DIM))\n",
    "for word, i in word_index.items():\n",
    "    embedding_vector = embedding_index.get(word)\n",
    "    if embedding_vector is not None:\n",
    "        # words not found in embedding index will be all-zeros.\n",
    "        embedding_matrix[i] = embedding_vector\n",
    "\n",
    "words_bag = set(word2vec.index)"
   ]
  },
  {
   "cell_type": "code",
   "execution_count": 35,
   "metadata": {
    "collapsed": false
   },
   "outputs": [],
   "source": [
    "words_idf_series = {tp:Series(words_idf[tp].values(), index=words_idf[tp].keys()) for tp in words_idf}"
   ]
  },
  {
   "cell_type": "code",
   "execution_count": 36,
   "metadata": {
    "collapsed": true
   },
   "outputs": [],
   "source": [
    "def words_of_sentence_to_vector(words, tp, use_weight=True):\n",
    "    shp = (len(words), EMBEDDING_DIM)\n",
    "    try:\n",
    "        if use_weight:\n",
    "            weight = np.repeat(words_idf_series[tp].loc[words], EMBEDDING_DIM).values.reshape(shp)\n",
    "            return (word2vec.loc[words] * weight).mean().values    \n",
    "        else:\n",
    "            return (word2vec.loc[words]).mean().values\n",
    "    except: # none of words are in word2vec\n",
    "        return np.zeros(shp)\n",
    "def get_sent_vetor_df(q_words):\n",
    "    q_vecs = dict(zip(q_words.keys(), map(lambda words : words_of_sentence_to_vector(words, 'words', use_weight=False), q_words.values())))\n",
    "    q_vecs = DataFrame(q_vecs).T\n",
    "    q_vecs_wgt = dict(zip(q_words.keys(), map(lambda words : words_of_sentence_to_vector(words, 'words', use_weight=True), q_words.values())))\n",
    "    q_vecs_wgt = DataFrame(q_vecs_wgt).T\n",
    "    #q_vecs_wgt.columns = map(lambda col : col)\n",
    "    q_vecs_merged = pd.concat([q_vecs, q_vecs_wgt], axis=1)\n",
    "    return q_vecs_merged"
   ]
  },
  {
   "cell_type": "code",
   "execution_count": null,
   "metadata": {
    "collapsed": true
   },
   "outputs": [],
   "source": []
  },
  {
   "cell_type": "markdown",
   "metadata": {},
   "source": [
    "## calculate features"
   ]
  },
  {
   "cell_type": "code",
   "execution_count": 37,
   "metadata": {
    "collapsed": true
   },
   "outputs": [],
   "source": [
    "features = {key:DataFrame({}, index=data[key].index) for key in fn}\n",
    "features_trn = features['trn']\n",
    "features_dev = features['dev']\n",
    "features_test = features['test']\n",
    "tps_wgt = map(lambda v : v + '_wgt', tps)\n",
    "tps_wv = map(lambda v : v + '_wv', tps)\n",
    "tps_wv_wgt = map(lambda v : v + '_wgt', tps_wv)"
   ]
  },
  {
   "cell_type": "code",
   "execution_count": 38,
   "metadata": {
    "collapsed": false
   },
   "outputs": [],
   "source": [
    "# words, stems\n",
    "for k in fn:\n",
    "    d = data[k]\n",
    "    for tp in tps:\n",
    "        func = lambda qaid : count_num_cooccur(sent_words[qaid][tp], sent_words[d.get_value(qaid, 'QuestionID')][tp])\n",
    "        features[k][tp] = d['QAID'].apply(func)\n",
    "        func = lambda qaid : count_num_cooccur_weight(sent_words[qaid][tp], sent_words[d.get_value(qaid, 'QuestionID')][tp], tp)\n",
    "        features[k][tp + '_wgt'] = d['QAID'].apply(func)\n",
    "        func = lambda qaid : count_wv_dis(sent_words[qaid][tp], sent_words[d.get_value(qaid, 'QuestionID')][tp])\n",
    "        features[k][tp + '_wv'] = d['QAID'].apply(func)\n",
    "        func = lambda qaid : count_wv_dis_weight(sent_words[qaid][tp], sent_words[d.get_value(qaid, 'QuestionID')][tp], tp)\n",
    "        features[k][tp + '_wv_wgt'] = d['QAID'].apply(func)"
   ]
  },
  {
   "cell_type": "code",
   "execution_count": 39,
   "metadata": {
    "collapsed": false
   },
   "outputs": [],
   "source": [
    "# question type\n",
    "for k in fn:\n",
    "    f, d = features[k], data[k]\n",
    "    for col in ['token1', 'qtype']:\n",
    "        f[col] = data[k][col]\n",
    "    f['qtype_time'] = (d['qtype'] == 'time') + 0\n",
    "    f['qtype_number'] = (d['qtype'] == 'number') + 0\n",
    "    f['year'] = map(lambda sent : int(re.search('[0-9]{4}', sent) != None), d.Sentence)\n",
    "    f['number'] = map(lambda sent : int(re.search('[0-9]+', sent) != None), d.Sentence)\n",
    "    f['number'] = f['number'] - f['year']\n",
    "    f['num_unknown'] = map(lambda words : len(set(words) - words_bag), #np.sum(np.logical_not(np.in1d(words, word2vec.index)))\n",
    "                           map(lambda qaid : sent_words[qaid]['words'], d.index))"
   ]
  },
  {
   "cell_type": "code",
   "execution_count": 40,
   "metadata": {
    "collapsed": false
   },
   "outputs": [],
   "source": [
    "# qa_vectors = {}\n",
    "# for k in fn:\n",
    "#     q_words = {qid:sent_words[qid]['words'] for qid in set(data[k]['QuestionID'])}\n",
    "#     q_vec_df = get_sent_vetor_df(q_words)\n",
    "#     q_vec_df = q_vec_df.loc[data[k]['QuestionID']]\n",
    "#     q_vec_df.index = data[k].index\n",
    "#     a_words = {qaid:sent_words[qaid]['words'] for qaid in data[k].index}\n",
    "#     a_vec_df = get_sent_vetor_df(a_words)\n",
    "#     qa_vectors[k] = pd.concat([q_vec_df, a_vec_df], axis=1)"
   ]
  },
  {
   "cell_type": "code",
   "execution_count": null,
   "metadata": {
    "collapsed": true
   },
   "outputs": [],
   "source": []
  },
  {
   "cell_type": "code",
   "execution_count": 41,
   "metadata": {
    "collapsed": false
   },
   "outputs": [],
   "source": [
    "dummies = {}\n",
    "features_all = pd.concat(features.values(), axis=0)\n",
    "dummies_all = pd.get_dummies(features_all)"
   ]
  },
  {
   "cell_type": "code",
   "execution_count": 42,
   "metadata": {
    "collapsed": false
   },
   "outputs": [
    {
     "data": {
      "text/plain": [
       "((23841, 31), (23841, 42))"
      ]
     },
     "execution_count": 42,
     "metadata": {},
     "output_type": "execute_result"
    }
   ],
   "source": [
    "features_all.shape, dummies_all.shape"
   ]
  },
  {
   "cell_type": "code",
   "execution_count": 43,
   "metadata": {
    "collapsed": false
   },
   "outputs": [
    {
     "name": "stdout",
     "output_type": "stream",
     "text": [
      "test 0 2351 (2351, 42) (2351, 11)\n",
      "dev 2351 3481 (1130, 42) (1130, 12)\n",
      "trn 3481 23841 (20360, 42) (20360, 12)\n"
     ]
    }
   ],
   "source": [
    "idx = 0\n",
    "k_all = fn.keys()\n",
    "for i in range(len(k_all)):\n",
    "    k = k_all[i]\n",
    "    new_idx = idx + data[k].shape[0]\n",
    "    dummies[k] = dummies_all.iloc[idx:new_idx]\n",
    "    print k, idx, new_idx, dummies[k].shape, data[k].shape\n",
    "    idx = new_idx"
   ]
  },
  {
   "cell_type": "code",
   "execution_count": 44,
   "metadata": {
    "collapsed": true
   },
   "outputs": [],
   "source": [
    "from sklearn.ensemble import RandomForestClassifier, AdaBoostClassifier\n",
    "from sklearn.svm import SVC\n",
    "from sklearn.linear_model import LogisticRegression"
   ]
  },
  {
   "cell_type": "code",
   "execution_count": 45,
   "metadata": {
    "collapsed": false
   },
   "outputs": [],
   "source": [
    "from learning2rank.rank import RankNet, ListNet\n",
    "# reload(RankNet)\n",
    "# reload(ListNet)"
   ]
  },
  {
   "cell_type": "code",
   "execution_count": 46,
   "metadata": {
    "collapsed": true
   },
   "outputs": [],
   "source": [
    "models = {}"
   ]
  },
  {
   "cell_type": "code",
   "execution_count": 47,
   "metadata": {
    "collapsed": true
   },
   "outputs": [],
   "source": [
    "indiv = [1560, 'entropy', 3, 5, 5] # (0.68945635493254542,) # 0.68482672530291577,) [48, 'gini', 3, 2, 4] #(0.68573375478137377,) [1734, 'entropy', 5, 3, 4] # (0.68961935330982949,)  # 49, 'entropy', 13, 3, 5]\n",
    "models['rf'] = model_rf = RandomForestClassifier(n_estimators=indiv[0], criterion=indiv[1], \n",
    "                                                 max_depth=indiv[2], min_samples_split=indiv[3], \n",
    "                                                 min_samples_leaf=indiv[4], n_jobs=-1) # "
   ]
  },
  {
   "cell_type": "code",
   "execution_count": 48,
   "metadata": {
    "collapsed": false
   },
   "outputs": [],
   "source": [
    "#models['ada'] = model_ada = AdaBoostClassifier(base_estimator=None, n_estimators=100, learning_rate=.5, algorithm='SAMME.R', random_state=None)"
   ]
  },
  {
   "cell_type": "code",
   "execution_count": 49,
   "metadata": {
    "collapsed": true
   },
   "outputs": [],
   "source": [
    "models['lr_l1'] = model_lr_l1 = LogisticRegression(penalty='l1', n_jobs=-1)\n",
    "models['lr_l2'] = model_lr_l2 = LogisticRegression(penalty='l2', n_jobs=-1)"
   ]
  },
  {
   "cell_type": "code",
   "execution_count": 50,
   "metadata": {
    "collapsed": true
   },
   "outputs": [],
   "source": [
    "#models['svm'] = model_svm = SVC(probability=True)"
   ]
  },
  {
   "cell_type": "code",
   "execution_count": 51,
   "metadata": {
    "collapsed": false
   },
   "outputs": [],
   "source": [
    "rk_models = {}"
   ]
  },
  {
   "cell_type": "code",
   "execution_count": 52,
   "metadata": {
    "collapsed": false
   },
   "outputs": [],
   "source": [
    "rk_models['ranknet'] = rk_model_ranknet = RankNet.RankNet(silent=True)"
   ]
  },
  {
   "cell_type": "code",
   "execution_count": 53,
   "metadata": {
    "collapsed": true
   },
   "outputs": [],
   "source": [
    "#rk_models['listnet'] = rk_model_listnet = ListNet.ListNet(silent=True)"
   ]
  },
  {
   "cell_type": "code",
   "execution_count": 54,
   "metadata": {
    "collapsed": false
   },
   "outputs": [],
   "source": [
    "my_models = {}\n",
    "pair_ranker = PairWiseRanker(data_trn.QuestionID, dummies['trn'], data_trn.Label)"
   ]
  },
  {
   "cell_type": "code",
   "execution_count": 55,
   "metadata": {
    "collapsed": true
   },
   "outputs": [],
   "source": [
    "# from ParamGA import * \n",
    "# g = RFGA(data_trn.QuestionID, dummies['trn'], data_trn.Label, data_dev.QuestionID, dummies['dev'], data_dev.Label, pair_wise=False)\n",
    "# g.run(NPOP=30, NGEN=20, CXPB=0.5, MUTPB=0.5)"
   ]
  },
  {
   "cell_type": "code",
   "execution_count": 56,
   "metadata": {
    "collapsed": true
   },
   "outputs": [],
   "source": [
    "indiv =[327, 'gini', 5, 5, 1] #  (0.69239713108760736,)  # [746, 'gini', 7, 6, 4] #[746, 'gini', 7, 6, 4] # 0.679 \n",
    "# (0.69028072897120518,) [352, 'entropy', 5, 4, 5] # (0.69001617870665499,) [1977, 'gini', 6, 4, 5]\n",
    "my_models['my_rf'] = my_models_rf = RandomForestClassifier(n_estimators=indiv[0], criterion=indiv[1], \n",
    "                                                 max_depth=indiv[2], min_samples_split=indiv[3], \n",
    "                                                 min_samples_leaf=indiv[4], n_jobs=-1)"
   ]
  },
  {
   "cell_type": "code",
   "execution_count": 57,
   "metadata": {
    "collapsed": false
   },
   "outputs": [],
   "source": [
    "for mn, md in models.items():\n",
    "    md.fit(dummies['trn'].values, data_trn.Label)"
   ]
  },
  {
   "cell_type": "code",
   "execution_count": 58,
   "metadata": {
    "collapsed": false
   },
   "outputs": [
    {
     "name": "stderr",
     "output_type": "stream",
     "text": [
      "/home/pkuas/chenqy/anaconda2/lib/python2.7/site-packages/numpy/lib/shape_base.py:422: VisibleDeprecationWarning: using a non-integer number instead of an integer will result in an error in the future\n",
      "  sub_arys.append(_nx.swapaxes(sary[st:end], axis, 0))\n",
      "  0%|          | 5/5000 [00:00<01:40, 49.73it/s]"
     ]
    },
    {
     "name": "stdout",
     "output_type": "stream",
     "text": [
      "load dataset\n",
      "('The number of data, train:', 19342, 'validate:', 1018)\n",
      "prepare initialized model!\n"
     ]
    },
    {
     "name": "stderr",
     "output_type": "stream",
     "text": [
      "100%|██████████| 5000/5000 [00:46<00:00, 106.58it/s]\n"
     ]
    },
    {
     "name": "stdout",
     "output_type": "stream",
     "text": [
      "save the model\n",
      "save the optimizer\n"
     ]
    },
    {
     "data": {
      "image/png": "[encoded data removed]",
      "text/plain": [
       "<matplotlib.figure.Figure at 0x7fce7c94a210>"
      ]
     },
     "metadata": {},
     "output_type": "display_data"
    }
   ],
   "source": [
    "# %%capture\n",
    "for mn in rk_models: # ['listnet']: # \n",
    "    args = {}\n",
    "    if mn == 'ranknet':\n",
    "        args = {} # {'batchsize':100, 'n_iter':5000, 'n_units1':512, 'n_units2':128, 'tv_ratio':0.95}\n",
    "    elif mn == 'listnet':\n",
    "        args = {'batchsize':100, 'n_epoch':1, 'n_units1':32, 'n_units2':16, 'tv_ratio':0.9}\n",
    "    rk_models[mn].fit(dummies['trn'].values, data_trn.Label, **args)\n",
    "\n",
    "# clear_output()"
   ]
  },
  {
   "cell_type": "code",
   "execution_count": 59,
   "metadata": {
    "collapsed": false
   },
   "outputs": [],
   "source": [
    "for mn in my_models:\n",
    "    pair_ranker.fit(my_models[mn], mn)"
   ]
  },
  {
   "cell_type": "code",
   "execution_count": 60,
   "metadata": {
    "collapsed": false
   },
   "outputs": [],
   "source": [
    "#Series(model_rf.feature_importances_, index=features_trn.columns).sort_values(ascending=False)"
   ]
  },
  {
   "cell_type": "code",
   "execution_count": 61,
   "metadata": {
    "collapsed": true
   },
   "outputs": [],
   "source": [
    "sfn = fn.keys() # specify a subset of fn"
   ]
  },
  {
   "cell_type": "code",
   "execution_count": 62,
   "metadata": {
    "collapsed": false
   },
   "outputs": [],
   "source": [
    "preds = {k:{mn:md.predict_proba(dummies[k]) for mn, md in models.items()} for k in sfn}"
   ]
  },
  {
   "cell_type": "code",
   "execution_count": 63,
   "metadata": {
    "collapsed": false
   },
   "outputs": [],
   "source": [
    "rk_preds = {k:{mn:md.predict(dummies[k].values) for mn, md in rk_models.items()} for k in sfn}"
   ]
  },
  {
   "cell_type": "code",
   "execution_count": 64,
   "metadata": {
    "collapsed": false
   },
   "outputs": [],
   "source": [
    "my_preds = {k:{mn:pair_ranker.predict(data[k]['QuestionID'], dummies[k], mn) for mn in my_models} for k in sfn}"
   ]
  },
  {
   "cell_type": "code",
   "execution_count": 65,
   "metadata": {
    "collapsed": false
   },
   "outputs": [],
   "source": [
    "ranks = {k:deepcopy(dummies[k]) for k in fn}\n",
    "dummy_rank_features = {k:deepcopy(dummies[k]) for k in fn}\n",
    "rank_trn, rank_dev, rank_test = ranks['trn'], ranks['dev'], ranks['test']\n",
    "all_tps = tps + tps_wgt + tps_wv + tps_wv_wgt + models.keys() + rk_models.keys() + my_models.keys()\n",
    "for k in sfn:\n",
    "    rk = ranks[k]\n",
    "    for col in ['QuestionID', 'SentenceID']:\n",
    "        rk[col] = data[k][col]\n",
    "    if k != 'test':\n",
    "        rk['Label'] = data[k]['Label']\n",
    "    for mn in models:\n",
    "        rk[mn] = preds[k][mn][:, 1] # larger is better\n",
    "    for mn in rk_models:\n",
    "        rk[mn] = rk_preds[k][mn][:, 0]\n",
    "    for mn in my_models:\n",
    "        rk[mn] = my_preds[k][mn]\n",
    "    grp = rk.groupby('QuestionID')\n",
    "    for tp in all_tps:\n",
    "        col = 'rank_' + tp\n",
    "        rk[col] = grp[tp].rank(method='min', ascending=False).astype(int)  \n",
    "        rk.sort_values(['QuestionID', col], inplace=True)\n",
    "        # add one Strictly Increasing Monotonically vector to avoid same ranks\n",
    "        b = np.ones(rk.shape[0]).cumsum()\n",
    "        rk[col] += b\n",
    "        grp = rk.groupby('QuestionID')\n",
    "        rk[col] = grp[col].rank(method='min', ascending=True).astype(int)  \n",
    "        dummy_rank_features[k][col] = rk[col]"
   ]
  },
  {
   "cell_type": "code",
   "execution_count": 66,
   "metadata": {
    "collapsed": false,
    "scrolled": false
   },
   "outputs": [
    {
     "name": "stdout",
     "output_type": "stream",
     "text": [
      "dev\n",
      "\twords                [ 0.66772  0.67436  0.66772  0.67436]\n",
      "\tstems                [ 0.66973  0.67913  0.66973  0.67913]\n",
      "\twords_not_stop       [ 0.65747  0.66276  0.65747  0.66276]\n",
      "\tstems_not_stop       [ 0.67028  0.67904  0.67028  0.67904]\n",
      "\tlemma                [ 0.67349  0.68225  0.67349  0.68225]\n",
      "\tlemma_not_stop       [ 0.68214  0.6909   0.68214  0.6909 ]\n",
      "\twords_wgt            [ 0.65222  0.65798  0.65222  0.65798]\n",
      "\tstems_wgt            [ 0.6847   0.69353  0.6847   0.69353]\n",
      "\twords_not_stop_wgt   [ 0.66889  0.67507  0.66889  0.67507]\n",
      "\tstems_not_stop_wgt   [ 0.66975  0.67792  0.66975  0.67792]\n",
      "\tlemma_wgt            [ 0.68184  0.69041  0.68184  0.69041]\n",
      "\tlemma_not_stop_wgt   [ 0.68163  0.6902   0.68163  0.6902 ]\n",
      "\twords_wv             [ 0.59265  0.59182  0.59265  0.59182]\n",
      "\tstems_wv             [ 0.58874  0.5895   0.58874  0.5895 ]\n",
      "\twords_not_stop_wv    [ 0.62636  0.631    0.62636  0.631  ]\n",
      "\tstems_not_stop_wv    [ 0.54792  0.55225  0.54792  0.55225]\n",
      "\tlemma_wv             [ 0.58557  0.58398  0.58557  0.58398]\n",
      "\tlemma_not_stop_wv    [ 0.62133  0.62693  0.62133  0.62693]\n",
      "\twords_wv_wgt         [ 0.60172  0.60445  0.60172  0.60445]\n",
      "\tstems_wv_wgt         [ 0.56176  0.56882  0.56176  0.56882]\n",
      "\twords_not_stop_wv_wgt [ 0.62568  0.63001  0.62568  0.63001]\n",
      "\tstems_not_stop_wv_wgt [ 0.5719   0.57668  0.5719   0.57668]\n",
      "\tlemma_wv_wgt         [ 0.59694  0.60301  0.59694  0.60301]\n",
      "\tlemma_not_stop_wv_wgt [ 0.6061   0.60989  0.6061   0.60989]\n",
      "\trf                   [ 0.67367  0.67731  0.67367  0.67731]\n",
      "\tlr_l1                [ 0.65783  0.6616   0.65783  0.6616 ]\n",
      "\tlr_l2                [ 0.66073  0.6645   0.66073  0.6645 ]\n",
      "\tranknet              [ 0.62936  0.63237  0.62936  0.63237]\n",
      "\tmy_rf                [ 0.65566  0.65877  0.65566  0.65877]\n"
     ]
    }
   ],
   "source": [
    "for k in sfn:\n",
    "    if k in ['test', 'trn']:\n",
    "        continue\n",
    "    print k\n",
    "    rk = ranks[k]\n",
    "    for tp in all_tps:\n",
    "        col = 'rank_' + tp\n",
    "        rk.sort_values(['QuestionID', col], inplace=True)\n",
    "        grp = rk.Label.groupby(rk.QuestionID)\n",
    "        print '\\t', '{: <20}'.format(tp), np.round([MAP(grp), MRR(grp), MAP(grp, keep_no_ans=False), MRR(grp, keep_no_ans=False)], 5)"
   ]
  },
  {
   "cell_type": "code",
   "execution_count": 67,
   "metadata": {
    "collapsed": false,
    "scrolled": false
   },
   "outputs": [],
   "source": [
    "# #res = collections.defaultdict(dict)\n",
    "# print sfn, '\\n'\n",
    "# print ' ' * 15, '{: >15}\\t{: >15}'.format('MAP', 'MRR') \n",
    "# for tp in tps + tps_wgt + models.keys() + rk_models.keys() + my_models.keys(): # ['rf']: #\n",
    "#     print '{: >20}'.format(tp), \n",
    "#     for k in sfn:\n",
    "#         if k in ['test', 'trn']:\n",
    "#             continue\n",
    "#         col = 'rank_' + tp\n",
    "#         ranks[k][['QuestionID', 'SentenceID', col]].sort_values(['QuestionID', col]).to_csv('rank.txt', sep='\\t', header=False, index=False)\n",
    "#         out = commands.getoutput('python eval.py rank.txt %s' % fn[k])\n",
    "#         m = re.search('MAP: ([.0-9]+)\\nMRR ([.0-9]+)', out)\n",
    "#         print '\\t%f\\t%f' % (float(m.group(1)), float(m.group(2))),' ',\n",
    "#     print ''"
   ]
  },
  {
   "cell_type": "code",
   "execution_count": null,
   "metadata": {
    "collapsed": false
   },
   "outputs": [],
   "source": []
  },
  {
   "cell_type": "code",
   "execution_count": 68,
   "metadata": {
    "collapsed": true
   },
   "outputs": [],
   "source": [
    "def rank_and_evaluate(y, k):\n",
    "    '''\n",
    "    if k is 'test', then this func will only rank, not evaluate \n",
    "    '''\n",
    "    d = DataFrame({}, data[k].index)\n",
    "    d['y'] = y\n",
    "    cols = ['QuestionID', 'SentenceID']\n",
    "    if k != 'test':\n",
    "        cols.append('Label')\n",
    "    for col in cols:\n",
    "        d[col] = data[k][col]\n",
    "    \n",
    "    \n",
    "    grp = d.groupby('QuestionID')\n",
    "    d['rank'] = grp['y'].rank(method='min', ascending=False).astype(int)    \n",
    "    \n",
    "    d.sort_values(['QuestionID', 'rank'], inplace=True)\n",
    "    res = dict()\n",
    "    res['rank_df'] = d\n",
    "    if k == 'test':\n",
    "        return res\n",
    "    grp = d.Label.groupby(d.QuestionID)\n",
    "    res['my_MAP'] = MAP(grp, keep_no_ans=False)\n",
    "    res['my_MRR'] = MRR(grp, keep_no_ans=False)\n",
    "    d[['QuestionID', 'SentenceID', 'rank']].sort_values(['QuestionID', 'rank']).to_csv('rank.txt', sep='\\t', header=False, index=False)\n",
    "    out = commands.getoutput('python eval.py rank.txt %s' % fn[k])\n",
    "    m = re.search('MAP: ([.0-9]+)\\nMRR ([.0-9]+)', out)\n",
    "    res['MAP'] = float(m.group(1))\n",
    "    res['MRR'] = float(m.group(2))\n",
    "    return res    \n",
    "\n",
    "def save_final_rank(df, dst_fn='final_rank.txt', rank_col='rank', \n",
    "                    save_cols=['QuestionID', 'SentenceID', 'rank'], sort_by_cols=['QuestionID', 'rank'], re_rank=False):\n",
    "    if re_rank:\n",
    "        col = rank_col\n",
    "        df.sort_values(['QuestionID', col], inplace=True)\n",
    "        # add one Strictly Increasing Monotonically vector to avoid same ranks\n",
    "        b = np.ones(df.shape[0]).cumsum()\n",
    "        df[col] += b\n",
    "        grp = df.groupby('QuestionID')\n",
    "        df[col] = grp[col].rank(method='min', ascending=True).astype(int)  \n",
    "    df[save_cols].sort_values(sort_by_cols).to_csv(dst_fn, sep='\\t', header=False, index=False)    \n",
    "\n",
    "def resample(rt, Xs, Y):\n",
    "    if rt == None or rt == 0:\n",
    "        return Xs, Y\n",
    "    n = Y.shape[0]\n",
    "    n1 = Y.sum()\n",
    "    n0 = n - n1\n",
    "    cls_idx = np.arange(n)\n",
    "    pos_cls_idx = cls_idx[Y==1]\n",
    "    neg_cls_idx = cls_idx[Y==0]\n",
    "    pos_sample = np.random.choice(pos_cls_idx, size=int(n0 / float(rt)) - n1, )\n",
    "    new_cls_idx = np.concatenate([neg_cls_idx, pos_cls_idx, pos_sample])\n",
    "    np.random.shuffle(new_cls_idx)\n",
    "    print n0, n1, n, int(n0 / float(rt)) - n1, new_cls_idx.shape\n",
    "    new_Y = Y[new_cls_idx]\n",
    "    new_Xs = [X[new_cls_idx] for X in Xs]\n",
    "    return new_Xs, new_Y\n"
   ]
  },
  {
   "cell_type": "markdown",
   "metadata": {},
   "source": []
  },
  {
   "cell_type": "code",
   "execution_count": 69,
   "metadata": {
    "collapsed": false
   },
   "outputs": [],
   "source": [
    "#ques_len.hist()"
   ]
  },
  {
   "cell_type": "code",
   "execution_count": 70,
   "metadata": {
    "collapsed": false
   },
   "outputs": [],
   "source": [
    "#sent_len.hist()\n",
    "#sent_len[sent_len<200].hist()"
   ]
  },
  {
   "cell_type": "code",
   "execution_count": 72,
   "metadata": {
    "collapsed": false
   },
   "outputs": [],
   "source": [
    "from keras.preprocessing.sequence import pad_sequences\n",
    "sent_pad = dict(zip(sent_seq.keys(), pad_sequences(sent_seq.values(), maxlen=MAX_SENT_SEQUENCE_LENGTH, padding='post', truncating='post')))\n",
    "ques_pad = dict(zip(ques_seq.keys(), pad_sequences(ques_seq.values(), maxlen=MAX_QUES_SEQUENCE_LENGTH, padding='post', truncating='post')))\n",
    "ques_as_sent_pad = dict(zip(ques_seq.keys(), pad_sequences(ques_seq.values(), maxlen=MAX_SENT_SEQUENCE_LENGTH, padding='post', truncating='post')))"
   ]
  },
  {
   "cell_type": "code",
   "execution_count": 73,
   "metadata": {
    "collapsed": false
   },
   "outputs": [],
   "source": [
    "sent_pad_df = DataFrame(sent_pad.values(), index=sent_pad.keys())"
   ]
  },
  {
   "cell_type": "code",
   "execution_count": 74,
   "metadata": {
    "collapsed": true
   },
   "outputs": [],
   "source": [
    "ques_pad_df = DataFrame(ques_pad.values(), index=ques_pad.keys())"
   ]
  },
  {
   "cell_type": "code",
   "execution_count": 75,
   "metadata": {
    "collapsed": true
   },
   "outputs": [],
   "source": [
    "ques_as_sent_pad_df = DataFrame(ques_as_sent_pad.values(), index=ques_as_sent_pad.keys())"
   ]
  },
  {
   "cell_type": "code",
   "execution_count": 76,
   "metadata": {
    "collapsed": true
   },
   "outputs": [],
   "source": [
    "paddata = collections.defaultdict(dict)\n",
    "for k in fn:\n",
    "    paddata[k] = {'ques':ques_pad_df.loc[data[k]['QuestionID']], \n",
    "                  'ques_as_sent':ques_as_sent_pad_df.loc[data[k]['QuestionID']],\n",
    "                  'sent':sent_pad_df.loc[data[k]['QAID']]}"
   ]
  },
  {
   "cell_type": "code",
   "execution_count": 77,
   "metadata": {
    "collapsed": true
   },
   "outputs": [],
   "source": [
    "num_output_class = 1"
   ]
  },
  {
   "cell_type": "code",
   "execution_count": 79,
   "metadata": {
    "collapsed": false
   },
   "outputs": [],
   "source": [
    "label = {}\n",
    "for k in sfn:\n",
    "    if k == 'test':\n",
    "        continue\n",
    "    tmp = data[k]['Label'].values\n",
    "    if num_output_class == 1:\n",
    "        label[k] = tmp\n",
    "    elif num_output_class == 2:\n",
    "        label[k] = np.array([1 - tmp, tmp]).T"
   ]
  },
  {
   "cell_type": "code",
   "execution_count": null,
   "metadata": {
    "collapsed": false
   },
   "outputs": [],
   "source": []
  },
  {
   "cell_type": "markdown",
   "metadata": {},
   "source": [
    "## adapted CNN"
   ]
  },
  {
   "cell_type": "code",
   "execution_count": 80,
   "metadata": {
    "collapsed": false
   },
   "outputs": [],
   "source": [
    "use_add_features = True\n",
    "num_output_class = 1\n",
    "features_used = dummy_rank_features\n",
    "add_features_dim = features_used['trn'].shape[1] if use_add_features else None\n",
    "X, Y = {}, {}\n",
    "for k in sfn:\n",
    "    X[k] = [paddata[k]['ques'].values, paddata[k]['sent'].values]\n",
    "    if k != 'test':\n",
    "        Y[k] = label[k]\n",
    "    if use_add_features:\n",
    "        X[k].append(features_used[k].values)"
   ]
  },
  {
   "cell_type": "code",
   "execution_count": 82,
   "metadata": {
    "collapsed": false
   },
   "outputs": [],
   "source": [
    "from MyCNN import *\n",
    "cnn = MyCNN(embedding_matrix, word_index, MAX_QUES_SEQUENCE_LENGTH, MAX_SENT_SEQUENCE_LENGTH, add_features_dim)"
   ]
  },
  {
   "cell_type": "code",
   "execution_count": 83,
   "metadata": {
    "collapsed": false
   },
   "outputs": [],
   "source": [
    "cnn.init_model(num_filters=100, filter_size=5, pool_length=2, \n",
    "               denses=[100], dropouts=[0], activations=['relu'],\n",
    "               num_output_class=num_output_class)"
   ]
  },
  {
   "cell_type": "code",
   "execution_count": 84,
   "metadata": {
    "collapsed": false
   },
   "outputs": [
    {
     "name": "stdout",
     "output_type": "stream",
     "text": [
      "Train on 20360 samples, validate on 1130 samples\n",
      "Epoch 1/2\n",
      "20360/20360 [==============================] - 13s - loss: 0.1842 - acc: 0.9474 - val_loss: 0.4068 - val_acc: 0.8761\n",
      "Epoch 2/2\n",
      "20360/20360 [==============================] - 13s - loss: 0.1741 - acc: 0.9483 - val_loss: 0.3135 - val_acc: 0.8770\n"
     ]
    }
   ],
   "source": [
    "#new_Xs, new_Y = resample(0, X['trn'], Y['trn'])\n",
    "cnn.fit(X['trn'], Y['trn'], validation_data=(X['dev'], Y['dev']), nb_epoch=2, batch_size=50) # data['trn'].shape[0]) # "
   ]
  },
  {
   "cell_type": "code",
   "execution_count": 86,
   "metadata": {
    "collapsed": false
   },
   "outputs": [
    {
     "name": "stdout",
     "output_type": "stream",
     "text": [
      "dev\n",
      "my_MAP \t0.681653212308\n",
      "my_MRR \t0.685950293093\n",
      "MAP \t0.681653212308\n",
      "MRR \t0.685950293093\n"
     ]
    }
   ],
   "source": [
    "res = {}\n",
    "for k in sfn:\n",
    "    if k in ['trn', 'test']:\n",
    "        continue\n",
    "    y = cnn.predict(X[k])\n",
    "    res[k] = rank_and_evaluate(y[:, 0], k)\n",
    "    print k\n",
    "    for m in ['my_MAP', 'my_MRR', 'MAP', 'MRR']:\n",
    "        print m, '\\t', res[k][m]"
   ]
  },
  {
   "cell_type": "code",
   "execution_count": null,
   "metadata": {
    "collapsed": true
   },
   "outputs": [],
   "source": [
    "# model.save('model/cnn_2d_%d_%f_%f.h5' % (add_features_dim, res['dev']['MRR'], res['testx']['MRR']))"
   ]
  },
  {
   "cell_type": "code",
   "execution_count": null,
   "metadata": {
    "collapsed": true
   },
   "outputs": [],
   "source": []
  },
  {
   "cell_type": "markdown",
   "metadata": {
    "collapsed": true
   },
   "source": [
    "## adapted LSTM"
   ]
  },
  {
   "cell_type": "code",
   "execution_count": 89,
   "metadata": {
    "collapsed": true
   },
   "outputs": [],
   "source": [
    "from MyLSTM import *"
   ]
  },
  {
   "cell_type": "code",
   "execution_count": 90,
   "metadata": {
    "collapsed": true
   },
   "outputs": [],
   "source": [
    "# prepare X and Y\n",
    "use_add_features = True\n",
    "features_used = dummy_rank_features # dummies \n",
    "add_features_dim = features_used['trn'].shape[1] if use_add_features else None\n",
    "X, Y = {}, {}\n",
    "for k in sfn:\n",
    "    X[k] = [paddata[k]['ques_as_sent'].values, paddata[k]['sent'].values]\n",
    "    if k != 'test':\n",
    "        Y[k] = label[k]\n",
    "    if use_add_features:\n",
    "        X[k].append(features_used[k].values)"
   ]
  },
  {
   "cell_type": "code",
   "execution_count": 91,
   "metadata": {
    "collapsed": false
   },
   "outputs": [],
   "source": [
    "model = MyLSTM(embedding_matrix, word_index, MAX_SENT_SEQUENCE_LENGTH, add_features_dim)"
   ]
  },
  {
   "cell_type": "code",
   "execution_count": 95,
   "metadata": {
    "collapsed": false
   },
   "outputs": [],
   "source": [
    "model.init_model(lstm_output_dim=64, denses=[64], dropouts=[0])"
   ]
  },
  {
   "cell_type": "code",
   "execution_count": 98,
   "metadata": {
    "collapsed": false
   },
   "outputs": [
    {
     "name": "stdout",
     "output_type": "stream",
     "text": [
      "Train on 20360 samples, validate on 1130 samples\n",
      "Epoch 1/2\n",
      "20360/20360 [==============================] - 57s - loss: 0.1669 - acc: 0.9485 - val_loss: 0.3003 - val_acc: 0.8850\n",
      "Epoch 2/2\n",
      "20360/20360 [==============================] - 56s - loss: 0.1646 - acc: 0.9485 - val_loss: 0.3484 - val_acc: 0.8770\n"
     ]
    }
   ],
   "source": [
    "#np.random.seed(1337)\n",
    "model.fit(X['trn'], Y['trn'], validation_data=(X['dev'], Y['dev']), nb_epoch=2, batch_size=64)"
   ]
  },
  {
   "cell_type": "code",
   "execution_count": 99,
   "metadata": {
    "collapsed": false
   },
   "outputs": [
    {
     "name": "stdout",
     "output_type": "stream",
     "text": [
      "dev\n",
      "my_MAP \t0.685823839594\n",
      "my_MRR \t0.691201126915\n",
      "MAP \t0.685823839594\n",
      "MRR \t0.691201126915\n"
     ]
    }
   ],
   "source": [
    "res = {}\n",
    "for k in sfn:\n",
    "    if k in ['trn', 'test']:\n",
    "        continue\n",
    "    y = model.predict(X[k])\n",
    "    res['y'] = y\n",
    "    res[k] = rank_and_evaluate(y, k)\n",
    "    print k\n",
    "    for m in ['my_MAP', 'my_MRR', 'MAP', 'MRR']:\n",
    "        print m, '\\t', res[k][m]"
   ]
  },
  {
   "cell_type": "code",
   "execution_count": 103,
   "metadata": {
    "collapsed": true
   },
   "outputs": [],
   "source": [
    "# model.save('model/lstm_2d_%d_%f_%f.h5' % (add_features_dim, res['dev']['MRR'], res['testx']['MRR']))"
   ]
  },
  {
   "cell_type": "code",
   "execution_count": 106,
   "metadata": {
    "collapsed": false
   },
   "outputs": [],
   "source": [
    "# from keras.models import load_model\n",
    "# model = load_model('model/lstm.1337.709692.663293.h5')"
   ]
  },
  {
   "cell_type": "markdown",
   "metadata": {},
   "source": [
    "## predict and save"
   ]
  },
  {
   "cell_type": "code",
   "execution_count": 108,
   "metadata": {
    "collapsed": false
   },
   "outputs": [
    {
     "name": "stdout",
     "output_type": "stream",
     "text": [
      "Done\n"
     ]
    }
   ],
   "source": [
    "# predict on test dataset\n",
    "k = 'test'\n",
    "y = model.predict(X[k])\n",
    "tres = rank_and_evaluate(y, k)\n",
    "save_final_rank(tres['rank_df'], dst_fn='final_rank.txt', rank_col='rank', \n",
    "                    save_cols=['QuestionID', 'SentenceID', 'rank'], sort_by_cols=['QuestionID', 'rank'], re_rank=False)\n",
    "\n",
    "print 'Done'"
   ]
  },
  {
   "cell_type": "code",
   "execution_count": null,
   "metadata": {
    "collapsed": true
   },
   "outputs": [],
   "source": []
  }
 ],
 "metadata": {
  "anaconda-cloud": {},
  "kernelspec": {
   "display_name": "Python [conda root]",
   "language": "python",
   "name": "conda-root-py"
  },
  "language_info": {
   "codemirror_mode": {
    "name": "ipython",
    "version": 2
   },
   "file_extension": ".py",
   "mimetype": "text/x-python",
   "name": "python",
   "nbconvert_exporter": "python",
   "pygments_lexer": "ipython2",
   "version": "2.7.12"
  }
 },
 "nbformat": 4,
 "nbformat_minor": 0
}
